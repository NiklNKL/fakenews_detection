{
 "cells": [
  {
   "cell_type": "markdown",
   "metadata": {},
   "source": [
    "# Basic Dataframe Clean-Up"
   ]
  },
  {
   "cell_type": "markdown",
   "metadata": {},
   "source": [
    "Loading dataframe with custom function. \\\n",
    "(Because of its size it's split into separate pieces, each smaller than GitHubs 50 MB repo file size limit.)"
   ]
  },
  {
   "cell_type": "code",
   "execution_count": 1,
   "metadata": {},
   "outputs": [
    {
     "data": {
      "text/html": [
       "<div>\n",
       "<style scoped>\n",
       "    .dataframe tbody tr th:only-of-type {\n",
       "        vertical-align: middle;\n",
       "    }\n",
       "\n",
       "    .dataframe tbody tr th {\n",
       "        vertical-align: top;\n",
       "    }\n",
       "\n",
       "    .dataframe thead th {\n",
       "        text-align: right;\n",
       "    }\n",
       "</style>\n",
       "<table border=\"1\" class=\"dataframe\">\n",
       "  <thead>\n",
       "    <tr style=\"text-align: right;\">\n",
       "      <th></th>\n",
       "      <th>title</th>\n",
       "      <th>text</th>\n",
       "      <th>label</th>\n",
       "    </tr>\n",
       "  </thead>\n",
       "  <tbody>\n",
       "    <tr>\n",
       "      <th>0</th>\n",
       "      <td>LAW ENFORCEMENT ON HIGH ALERT Following Threat...</td>\n",
       "      <td>No comment is expected from Barack Obama Membe...</td>\n",
       "      <td>1</td>\n",
       "    </tr>\n",
       "    <tr>\n",
       "      <th>1</th>\n",
       "      <td>None</td>\n",
       "      <td>Did they post their votes for Hillary already?</td>\n",
       "      <td>1</td>\n",
       "    </tr>\n",
       "    <tr>\n",
       "      <th>2</th>\n",
       "      <td>UNBELIEVABLE! OBAMA’S ATTORNEY GENERAL SAYS MO...</td>\n",
       "      <td>Now, most of the demonstrators gathered last ...</td>\n",
       "      <td>1</td>\n",
       "    </tr>\n",
       "    <tr>\n",
       "      <th>3</th>\n",
       "      <td>Bobby Jindal, raised Hindu, uses story of Chri...</td>\n",
       "      <td>A dozen politically active pastors came here f...</td>\n",
       "      <td>0</td>\n",
       "    </tr>\n",
       "    <tr>\n",
       "      <th>4</th>\n",
       "      <td>SATAN 2: Russia unvelis an image of its terrif...</td>\n",
       "      <td>The RS-28 Sarmat missile, dubbed Satan 2, will...</td>\n",
       "      <td>1</td>\n",
       "    </tr>\n",
       "    <tr>\n",
       "      <th>...</th>\n",
       "      <td>...</td>\n",
       "      <td>...</td>\n",
       "      <td>...</td>\n",
       "    </tr>\n",
       "    <tr>\n",
       "      <th>72129</th>\n",
       "      <td>Russians steal research on Trump in hack of U....</td>\n",
       "      <td>WASHINGTON (Reuters) - Hackers believed to be ...</td>\n",
       "      <td>0</td>\n",
       "    </tr>\n",
       "    <tr>\n",
       "      <th>72130</th>\n",
       "      <td>WATCH: Giuliani Demands That Democrats Apolog...</td>\n",
       "      <td>You know, because in fantasyland Republicans n...</td>\n",
       "      <td>1</td>\n",
       "    </tr>\n",
       "    <tr>\n",
       "      <th>72131</th>\n",
       "      <td>Migrants Refuse To Leave Train At Refugee Camp...</td>\n",
       "      <td>Migrants Refuse To Leave Train At Refugee Camp...</td>\n",
       "      <td>0</td>\n",
       "    </tr>\n",
       "    <tr>\n",
       "      <th>72132</th>\n",
       "      <td>Trump tussle gives unpopular Mexican leader mu...</td>\n",
       "      <td>MEXICO CITY (Reuters) - Donald Trump’s combati...</td>\n",
       "      <td>0</td>\n",
       "    </tr>\n",
       "    <tr>\n",
       "      <th>72133</th>\n",
       "      <td>Goldman Sachs Endorses Hillary Clinton For Pre...</td>\n",
       "      <td>Goldman Sachs Endorses Hillary Clinton For Pre...</td>\n",
       "      <td>1</td>\n",
       "    </tr>\n",
       "  </tbody>\n",
       "</table>\n",
       "<p>72134 rows × 3 columns</p>\n",
       "</div>"
      ],
      "text/plain": [
       "                                                   title  \\\n",
       "0      LAW ENFORCEMENT ON HIGH ALERT Following Threat...   \n",
       "1                                                   None   \n",
       "2      UNBELIEVABLE! OBAMA’S ATTORNEY GENERAL SAYS MO...   \n",
       "3      Bobby Jindal, raised Hindu, uses story of Chri...   \n",
       "4      SATAN 2: Russia unvelis an image of its terrif...   \n",
       "...                                                  ...   \n",
       "72129  Russians steal research on Trump in hack of U....   \n",
       "72130   WATCH: Giuliani Demands That Democrats Apolog...   \n",
       "72131  Migrants Refuse To Leave Train At Refugee Camp...   \n",
       "72132  Trump tussle gives unpopular Mexican leader mu...   \n",
       "72133  Goldman Sachs Endorses Hillary Clinton For Pre...   \n",
       "\n",
       "                                                    text  label  \n",
       "0      No comment is expected from Barack Obama Membe...      1  \n",
       "1         Did they post their votes for Hillary already?      1  \n",
       "2       Now, most of the demonstrators gathered last ...      1  \n",
       "3      A dozen politically active pastors came here f...      0  \n",
       "4      The RS-28 Sarmat missile, dubbed Satan 2, will...      1  \n",
       "...                                                  ...    ...  \n",
       "72129  WASHINGTON (Reuters) - Hackers believed to be ...      0  \n",
       "72130  You know, because in fantasyland Republicans n...      1  \n",
       "72131  Migrants Refuse To Leave Train At Refugee Camp...      0  \n",
       "72132  MEXICO CITY (Reuters) - Donald Trump’s combati...      0  \n",
       "72133  Goldman Sachs Endorses Hillary Clinton For Pre...      1  \n",
       "\n",
       "[72134 rows x 3 columns]"
      ]
     },
     "metadata": {},
     "output_type": "display_data"
    }
   ],
   "source": [
    "from custom_utils import load_and_concatenate_parquet_files\n",
    "\n",
    "df = load_and_concatenate_parquet_files('./data/raw_fake_news_df')\n",
    "display(df)"
   ]
  },
  {
   "cell_type": "markdown",
   "metadata": {},
   "source": [
    "Checking for Null Values"
   ]
  },
  {
   "cell_type": "code",
   "execution_count": 2,
   "metadata": {},
   "outputs": [
    {
     "name": "stdout",
     "output_type": "stream",
     "text": [
      "<class 'pandas.core.frame.DataFrame'>\n",
      "RangeIndex: 72134 entries, 0 to 72133\n",
      "Data columns (total 3 columns):\n",
      " #   Column  Non-Null Count  Dtype \n",
      "---  ------  --------------  ----- \n",
      " 0   title   71576 non-null  object\n",
      " 1   text    72095 non-null  object\n",
      " 2   label   72134 non-null  int64 \n",
      "dtypes: int64(1), object(2)\n",
      "memory usage: 1.7+ MB\n",
      "Null values per column:\n"
     ]
    },
    {
     "data": {
      "text/plain": [
       "title    558\n",
       "text      39\n",
       "label      0\n",
       "dtype: int64"
      ]
     },
     "execution_count": 2,
     "metadata": {},
     "output_type": "execute_result"
    }
   ],
   "source": [
    "df.info()\n",
    "print(\"Null values per column:\")\n",
    "df.isnull().sum()"
   ]
  },
  {
   "cell_type": "markdown",
   "metadata": {},
   "source": [
    "Dropping Null Values as they are quite rare"
   ]
  },
  {
   "cell_type": "code",
   "execution_count": 3,
   "metadata": {},
   "outputs": [
    {
     "name": "stdout",
     "output_type": "stream",
     "text": [
      "<class 'pandas.core.frame.DataFrame'>\n",
      "Index: 71537 entries, 0 to 72133\n",
      "Data columns (total 3 columns):\n",
      " #   Column  Non-Null Count  Dtype \n",
      "---  ------  --------------  ----- \n",
      " 0   title   71537 non-null  object\n",
      " 1   text    71537 non-null  object\n",
      " 2   label   71537 non-null  int64 \n",
      "dtypes: int64(1), object(2)\n",
      "memory usage: 2.2+ MB\n"
     ]
    }
   ],
   "source": [
    "df = df.dropna()\n",
    "df.info()"
   ]
  },
  {
   "cell_type": "markdown",
   "metadata": {},
   "source": [
    "Adding readable label column for better clarity"
   ]
  },
  {
   "cell_type": "code",
   "execution_count": 4,
   "metadata": {},
   "outputs": [],
   "source": [
    "df[\"label_names\"] = df[\"label\"].apply(lambda x: \"real\" if x == 1 else \"fake\")"
   ]
  },
  {
   "cell_type": "markdown",
   "metadata": {},
   "source": [
    "Merging title and text to one big text column to combine the information"
   ]
  },
  {
   "cell_type": "code",
   "execution_count": 5,
   "metadata": {},
   "outputs": [
    {
     "data": {
      "text/html": [
       "<div>\n",
       "<style scoped>\n",
       "    .dataframe tbody tr th:only-of-type {\n",
       "        vertical-align: middle;\n",
       "    }\n",
       "\n",
       "    .dataframe tbody tr th {\n",
       "        vertical-align: top;\n",
       "    }\n",
       "\n",
       "    .dataframe thead th {\n",
       "        text-align: right;\n",
       "    }\n",
       "</style>\n",
       "<table border=\"1\" class=\"dataframe\">\n",
       "  <thead>\n",
       "    <tr style=\"text-align: right;\">\n",
       "      <th></th>\n",
       "      <th>raw_text</th>\n",
       "      <th>label</th>\n",
       "      <th>label_names</th>\n",
       "    </tr>\n",
       "  </thead>\n",
       "  <tbody>\n",
       "    <tr>\n",
       "      <th>0</th>\n",
       "      <td>LAW ENFORCEMENT ON HIGH ALERT Following Threat...</td>\n",
       "      <td>1</td>\n",
       "      <td>real</td>\n",
       "    </tr>\n",
       "    <tr>\n",
       "      <th>2</th>\n",
       "      <td>UNBELIEVABLE! OBAMA’S ATTORNEY GENERAL SAYS MO...</td>\n",
       "      <td>1</td>\n",
       "      <td>real</td>\n",
       "    </tr>\n",
       "    <tr>\n",
       "      <th>3</th>\n",
       "      <td>Bobby Jindal, raised Hindu, uses story of Chri...</td>\n",
       "      <td>0</td>\n",
       "      <td>fake</td>\n",
       "    </tr>\n",
       "    <tr>\n",
       "      <th>4</th>\n",
       "      <td>SATAN 2: Russia unvelis an image of its terrif...</td>\n",
       "      <td>1</td>\n",
       "      <td>real</td>\n",
       "    </tr>\n",
       "    <tr>\n",
       "      <th>5</th>\n",
       "      <td>About Time! Christian Group Sues Amazon and SP...</td>\n",
       "      <td>1</td>\n",
       "      <td>real</td>\n",
       "    </tr>\n",
       "  </tbody>\n",
       "</table>\n",
       "</div>"
      ],
      "text/plain": [
       "                                            raw_text  label label_names\n",
       "0  LAW ENFORCEMENT ON HIGH ALERT Following Threat...      1        real\n",
       "2  UNBELIEVABLE! OBAMA’S ATTORNEY GENERAL SAYS MO...      1        real\n",
       "3  Bobby Jindal, raised Hindu, uses story of Chri...      0        fake\n",
       "4  SATAN 2: Russia unvelis an image of its terrif...      1        real\n",
       "5  About Time! Christian Group Sues Amazon and SP...      1        real"
      ]
     },
     "execution_count": 5,
     "metadata": {},
     "output_type": "execute_result"
    }
   ],
   "source": [
    "df[\"raw_text\"] = df[\"title\"] + df[\"text\"]\n",
    "df = df[['raw_text', 'label', 'label_names']]\n",
    "df.head()"
   ]
  },
  {
   "cell_type": "markdown",
   "metadata": {},
   "source": [
    "Checking for duplicate entries. \\\n",
    "These are expected as this dataset merges four individual datasets together."
   ]
  },
  {
   "cell_type": "code",
   "execution_count": 6,
   "metadata": {},
   "outputs": [
    {
     "data": {
      "text/plain": [
       "8416"
      ]
     },
     "execution_count": 6,
     "metadata": {},
     "output_type": "execute_result"
    }
   ],
   "source": [
    "df.duplicated().sum()"
   ]
  },
  {
   "cell_type": "markdown",
   "metadata": {},
   "source": [
    "Dropping duplicate rows"
   ]
  },
  {
   "cell_type": "code",
   "execution_count": 7,
   "metadata": {},
   "outputs": [
    {
     "data": {
      "text/plain": [
       "(63121, 3)"
      ]
     },
     "execution_count": 7,
     "metadata": {},
     "output_type": "execute_result"
    }
   ],
   "source": [
    "df = df.drop_duplicates().reset_index(drop=True)\n",
    "df.shape"
   ]
  },
  {
   "cell_type": "markdown",
   "metadata": {},
   "source": [
    "# Text Clean-Up"
   ]
  },
  {
   "cell_type": "markdown",
   "metadata": {},
   "source": [
    "Doing basic regex character removal"
   ]
  },
  {
   "cell_type": "code",
   "execution_count": 8,
   "metadata": {},
   "outputs": [
    {
     "data": {
      "text/plain": [
       "0        law enforcement on high alert following threat...\n",
       "1        unbelievable obama’s attorney general says mos...\n",
       "2        bobby jindal raised hindu uses story of christ...\n",
       "3        satan russia unvelis an image of its terrifyin...\n",
       "4        about time christian group sues amazon and spl...\n",
       "                               ...                        \n",
       "63116    wikileaks email shows clinton foundation funds...\n",
       "63117    russians steal research on trump in hack of u ...\n",
       "63118    watch giuliani demands that democrats apologiz...\n",
       "63119    migrants refuse to leave train at refugee camp...\n",
       "63120    trump tussle gives unpopular mexican leader mu...\n",
       "Name: preprocessed_text, Length: 63121, dtype: object"
      ]
     },
     "metadata": {},
     "output_type": "display_data"
    }
   ],
   "source": [
    "df[\"preprocessed_text\"] = df[\"raw_text\"]\n",
    "df.loc[:, \"preprocessed_text\"] = (\n",
    "    df[\"preprocessed_text\"]\n",
    "    .str.lower()                                    # Convert to lowercase\n",
    "    .replace(r'http[\\w:/\\.]+', ' ', regex=True)     # Remove URLs\n",
    "    .replace(r\"[^a-z\\s'’]\", \" \", regex=True)        # Remove everything except lowercase letters, spaces, and apostrophes\n",
    "    .replace(r'\\s\\s+', ' ', regex=True)             # Collapse multiple spaces\n",
    "    .str.strip()                                    # Remove leading/trailing spaces\n",
    ")\n",
    "display(df[\"preprocessed_text\"])"
   ]
  },
  {
   "cell_type": "markdown",
   "metadata": {},
   "source": [
    "Showcase of the  `contractions` library"
   ]
  },
  {
   "cell_type": "code",
   "execution_count": 9,
   "metadata": {},
   "outputs": [
    {
     "name": "stdout",
     "output_type": "stream",
     "text": [
      "Original text: I can't believe it's not true! They're going to the park.\n",
      "Fixed text: I cannot believe it is not true! They are going to the park.\n"
     ]
    }
   ],
   "source": [
    "import contractions\n",
    "sample_text = \"I can't believe it's not true! They're going to the park.\"\n",
    "fixed_text = contractions.fix(sample_text)\n",
    "print(\"Original text:\", sample_text)\n",
    "print(\"Fixed text:\", fixed_text)"
   ]
  },
  {
   "cell_type": "markdown",
   "metadata": {},
   "source": [
    "Replacing contractions using the above shown library"
   ]
  },
  {
   "cell_type": "code",
   "execution_count": 10,
   "metadata": {},
   "outputs": [
    {
     "data": {
      "text/plain": [
       "0        law enforcement on high alert following threat...\n",
       "1        unbelievable obama’s attorney general says mos...\n",
       "2        bobby jindal raised hindu uses story of christ...\n",
       "3        satan russia unvelis an image of its terrifyin...\n",
       "4        about time christian group sues amazon and spl...\n",
       "                               ...                        \n",
       "63116    wikileaks email shows clinton foundation funds...\n",
       "63117    russians steal research on trump in hack of yo...\n",
       "63118    watch giuliani demands that democrats apologiz...\n",
       "63119    migrants refuse to leave train at refugee camp...\n",
       "63120    trump tussle gives unpopular mexican leader mu...\n",
       "Name: preprocessed_text, Length: 63121, dtype: object"
      ]
     },
     "metadata": {},
     "output_type": "display_data"
    }
   ],
   "source": [
    "df[\"preprocessed_text\"] = df[\"preprocessed_text\"].apply(\n",
    "    lambda x: contractions.fix(x) if isinstance(x, str) else x\n",
    ")\n",
    "display(df[\"preprocessed_text\"])"
   ]
  },
  {
   "cell_type": "markdown",
   "metadata": {},
   "source": [
    "Removing leftover apostrophes which did not belong to any contractions"
   ]
  },
  {
   "cell_type": "code",
   "execution_count": 11,
   "metadata": {},
   "outputs": [],
   "source": [
    "df['preprocessed_text'] = df['preprocessed_text'].replace(r\"’\", \"\", regex=True)"
   ]
  },
  {
   "cell_type": "markdown",
   "metadata": {},
   "source": [
    "## Apply Lemmatization in Parallel"
   ]
  },
  {
   "cell_type": "markdown",
   "metadata": {},
   "source": [
    "Code that checks if Spacy model is downloaded or not"
   ]
  },
  {
   "cell_type": "code",
   "execution_count": 12,
   "metadata": {},
   "outputs": [
    {
     "name": "stdout",
     "output_type": "stream",
     "text": [
      "Successfully loaded model: en_core_web_sm\n"
     ]
    },
    {
     "data": {
      "text/plain": [
       "<spacy.pipeline.sentencizer.Sentencizer at 0x7f5c94e11b40>"
      ]
     },
     "execution_count": 12,
     "metadata": {},
     "output_type": "execute_result"
    }
   ],
   "source": [
    "import spacy\n",
    "from spacy.cli import download\n",
    "# Download the SpaCy model if not already installed\n",
    "model_name = \"en_core_web_sm\"\n",
    "\n",
    "try:\n",
    "    nlp = spacy.load(model_name, disable=['parser', 'ner'])\n",
    "    print(f\"Successfully loaded model: {model_name}\")\n",
    "except OSError:\n",
    "    print(f\"Model '{model_name}' not found. Downloading...\")\n",
    "    download(model_name)\n",
    "    nlp = spacy.load(model_name, disable=['parser', 'ner'])\n",
    "    print(f\"Successfully downloaded and loaded model: {model_name}\")\n",
    "\n",
    "nlp.add_pipe('sentencizer')"
   ]
  },
  {
   "cell_type": "markdown",
   "metadata": {},
   "source": [
    "Lemmatization can be a very computational expensive process.\\\n",
    "I have therefore used parallelization to speed up the process."
   ]
  },
  {
   "cell_type": "code",
   "execution_count": 13,
   "metadata": {},
   "outputs": [
    {
     "name": "stdout",
     "output_type": "stream",
     "text": [
      "Processing part 1/5...\n"
     ]
    },
    {
     "name": "stderr",
     "output_type": "stream",
     "text": [
      "/home/nikl/programming/fhdw/knowledge_engineering_ausarbeitung/fakenews_detection/.venv/lib/python3.10/site-packages/numpy/core/fromnumeric.py:59: FutureWarning: 'Series.swapaxes' is deprecated and will be removed in a future version. Please use 'Series.transpose' instead.\n",
      "  return bound(*args, **kwds)\n"
     ]
    },
    {
     "name": "stdout",
     "output_type": "stream",
     "text": [
      "Processing part 2/5...\n",
      "Processing part 3/5...\n",
      "Processing part 4/5...\n",
      "Processing part 5/5...\n"
     ]
    }
   ],
   "source": [
    "from joblib import Parallel, delayed\n",
    "from spacy.lang.en.stop_words import STOP_WORDS\n",
    "import gc\n",
    "import numpy as np\n",
    "\n",
    "# Function to lemmatize a single document\n",
    "def lemmatize_doc(doc):\n",
    "    return ' '.join(\n",
    "        tok.lemma_.lower()\n",
    "        for tok in doc\n",
    "        if tok.is_alpha and tok.text.lower() not in STOP_WORDS\n",
    "    )\n",
    "\n",
    "# Function to chunk an iterable into chunks of size chunksize\n",
    "def chunker(iterable, total_length, chunksize):\n",
    "    for pos in range(0, total_length, chunksize):\n",
    "        yield iterable[pos: pos + chunksize]\n",
    "        \n",
    "# Flatten a list of lists\n",
    "def flatten(list_of_lists):\n",
    "    return [item for sublist in list_of_lists for item in sublist]\n",
    "\n",
    "# Process a chunk of texts in parallel\n",
    "def process_chunk(texts):\n",
    "    return [lemmatize_doc(doc) for doc in nlp.pipe(texts, batch_size=20)]\n",
    "\n",
    "# Main preprocessing function for parallel processing\n",
    "def batch_text_lemmatization(df, chunksize=100, num_parts=5):\n",
    "    split_texts = np.array_split(df, num_parts)\n",
    "    lemmatized_parts = []\n",
    "    for number, part in enumerate(split_texts):\n",
    "        print(f\"Processing part {number + 1}/{num_parts}...\")\n",
    "        \n",
    "        with Parallel(n_jobs=-1, backend='multiprocessing', prefer=\"processes\") as executor:\n",
    "            tasks = (delayed(process_chunk)(chunk) for chunk in chunker(part.tolist(), len(part.tolist()), chunksize=chunksize))\n",
    "            result = executor(tasks)\n",
    "        gc.collect()\n",
    "\n",
    "        lemmatized_parts.extend(flatten(result))\n",
    "    return lemmatized_parts\n",
    "\n",
    "df[\"preprocessed_text\"] = batch_text_lemmatization(df[\"preprocessed_text\"], chunksize=100, num_parts=5)"
   ]
  },
  {
   "cell_type": "markdown",
   "metadata": {},
   "source": [
    "Removing completely empty texts which got created with the cleanup"
   ]
  },
  {
   "cell_type": "code",
   "execution_count": 14,
   "metadata": {},
   "outputs": [
    {
     "name": "stdout",
     "output_type": "stream",
     "text": [
      "Removed 44 rows with empty text\n"
     ]
    }
   ],
   "source": [
    "row_count_before = df.shape[0]\n",
    "df = df[df[\"preprocessed_text\"].str.strip() != \"\"].reset_index(drop=True)\n",
    "print(f\"Removed {row_count_before - df.shape[0]} rows with empty text\")"
   ]
  },
  {
   "cell_type": "markdown",
   "metadata": {},
   "source": [
    "Saving the preprocessed dataset with a custom function.\\\n",
    "(To keep each file smaller than 50MB)"
   ]
  },
  {
   "cell_type": "code",
   "execution_count": 15,
   "metadata": {},
   "outputs": [
    {
     "name": "stdout",
     "output_type": "stream",
     "text": [
      "Dataframe saved in 4 files under the folder: data/preprocessed_df\n"
     ]
    },
    {
     "data": {
      "text/html": [
       "<div>\n",
       "<style scoped>\n",
       "    .dataframe tbody tr th:only-of-type {\n",
       "        vertical-align: middle;\n",
       "    }\n",
       "\n",
       "    .dataframe tbody tr th {\n",
       "        vertical-align: top;\n",
       "    }\n",
       "\n",
       "    .dataframe thead th {\n",
       "        text-align: right;\n",
       "    }\n",
       "</style>\n",
       "<table border=\"1\" class=\"dataframe\">\n",
       "  <thead>\n",
       "    <tr style=\"text-align: right;\">\n",
       "      <th></th>\n",
       "      <th>raw_text</th>\n",
       "      <th>preprocessed_text</th>\n",
       "      <th>label</th>\n",
       "      <th>label_names</th>\n",
       "    </tr>\n",
       "  </thead>\n",
       "  <tbody>\n",
       "    <tr>\n",
       "      <th>0</th>\n",
       "      <td>LAW ENFORCEMENT ON HIGH ALERT Following Threat...</td>\n",
       "      <td>law enforcement high alert follow threat cop w...</td>\n",
       "      <td>1</td>\n",
       "      <td>real</td>\n",
       "    </tr>\n",
       "    <tr>\n",
       "      <th>1</th>\n",
       "      <td>UNBELIEVABLE! OBAMA’S ATTORNEY GENERAL SAYS MO...</td>\n",
       "      <td>unbelievable obamas attorney general say charl...</td>\n",
       "      <td>1</td>\n",
       "      <td>real</td>\n",
       "    </tr>\n",
       "    <tr>\n",
       "      <th>2</th>\n",
       "      <td>Bobby Jindal, raised Hindu, uses story of Chri...</td>\n",
       "      <td>bobby jindal raise hindu use story christian c...</td>\n",
       "      <td>0</td>\n",
       "      <td>fake</td>\n",
       "    </tr>\n",
       "    <tr>\n",
       "      <th>3</th>\n",
       "      <td>SATAN 2: Russia unvelis an image of its terrif...</td>\n",
       "      <td>satan russia unveli image terrifying new super...</td>\n",
       "      <td>1</td>\n",
       "      <td>real</td>\n",
       "    </tr>\n",
       "    <tr>\n",
       "      <th>4</th>\n",
       "      <td>About Time! Christian Group Sues Amazon and SP...</td>\n",
       "      <td>time christian group sue amazon splc designati...</td>\n",
       "      <td>1</td>\n",
       "      <td>real</td>\n",
       "    </tr>\n",
       "    <tr>\n",
       "      <th>...</th>\n",
       "      <td>...</td>\n",
       "      <td>...</td>\n",
       "      <td>...</td>\n",
       "      <td>...</td>\n",
       "    </tr>\n",
       "    <tr>\n",
       "      <th>63072</th>\n",
       "      <td>WIKILEAKS EMAIL SHOWS CLINTON FOUNDATION FUNDS...</td>\n",
       "      <td>wikileak email show clinton foundation fund la...</td>\n",
       "      <td>1</td>\n",
       "      <td>real</td>\n",
       "    </tr>\n",
       "    <tr>\n",
       "      <th>63073</th>\n",
       "      <td>Russians steal research on Trump in hack of U....</td>\n",
       "      <td>russians steal research trump hack s democrati...</td>\n",
       "      <td>0</td>\n",
       "      <td>fake</td>\n",
       "    </tr>\n",
       "    <tr>\n",
       "      <th>63074</th>\n",
       "      <td>WATCH: Giuliani Demands That Democrats Apolog...</td>\n",
       "      <td>watch giuliani demand democrats apologize trum...</td>\n",
       "      <td>1</td>\n",
       "      <td>real</td>\n",
       "    </tr>\n",
       "    <tr>\n",
       "      <th>63075</th>\n",
       "      <td>Migrants Refuse To Leave Train At Refugee Camp...</td>\n",
       "      <td>migrant refuse leave train refugee camp hungar...</td>\n",
       "      <td>0</td>\n",
       "      <td>fake</td>\n",
       "    </tr>\n",
       "    <tr>\n",
       "      <th>63076</th>\n",
       "      <td>Trump tussle gives unpopular Mexican leader mu...</td>\n",
       "      <td>trump tussle give unpopular mexican leader nee...</td>\n",
       "      <td>0</td>\n",
       "      <td>fake</td>\n",
       "    </tr>\n",
       "  </tbody>\n",
       "</table>\n",
       "<p>63077 rows × 4 columns</p>\n",
       "</div>"
      ],
      "text/plain": [
       "                                                raw_text  \\\n",
       "0      LAW ENFORCEMENT ON HIGH ALERT Following Threat...   \n",
       "1      UNBELIEVABLE! OBAMA’S ATTORNEY GENERAL SAYS MO...   \n",
       "2      Bobby Jindal, raised Hindu, uses story of Chri...   \n",
       "3      SATAN 2: Russia unvelis an image of its terrif...   \n",
       "4      About Time! Christian Group Sues Amazon and SP...   \n",
       "...                                                  ...   \n",
       "63072  WIKILEAKS EMAIL SHOWS CLINTON FOUNDATION FUNDS...   \n",
       "63073  Russians steal research on Trump in hack of U....   \n",
       "63074   WATCH: Giuliani Demands That Democrats Apolog...   \n",
       "63075  Migrants Refuse To Leave Train At Refugee Camp...   \n",
       "63076  Trump tussle gives unpopular Mexican leader mu...   \n",
       "\n",
       "                                       preprocessed_text  label label_names  \n",
       "0      law enforcement high alert follow threat cop w...      1        real  \n",
       "1      unbelievable obamas attorney general say charl...      1        real  \n",
       "2      bobby jindal raise hindu use story christian c...      0        fake  \n",
       "3      satan russia unveli image terrifying new super...      1        real  \n",
       "4      time christian group sue amazon splc designati...      1        real  \n",
       "...                                                  ...    ...         ...  \n",
       "63072  wikileak email show clinton foundation fund la...      1        real  \n",
       "63073  russians steal research trump hack s democrati...      0        fake  \n",
       "63074  watch giuliani demand democrats apologize trum...      1        real  \n",
       "63075  migrant refuse leave train refugee camp hungar...      0        fake  \n",
       "63076  trump tussle give unpopular mexican leader nee...      0        fake  \n",
       "\n",
       "[63077 rows x 4 columns]"
      ]
     },
     "metadata": {},
     "output_type": "display_data"
    }
   ],
   "source": [
    "from custom_utils import save_dataframe_as_parquet\n",
    "df = df[['raw_text','preprocessed_text', 'label', 'label_names']]\n",
    "save_dataframe_as_parquet(df, folder_path='data', folder_name='preprocessed_df')\n",
    "display(df)"
   ]
  }
 ],
 "metadata": {
  "kernelspec": {
   "display_name": ".venv",
   "language": "python",
   "name": "python3"
  },
  "language_info": {
   "codemirror_mode": {
    "name": "ipython",
    "version": 3
   },
   "file_extension": ".py",
   "mimetype": "text/x-python",
   "name": "python",
   "nbconvert_exporter": "python",
   "pygments_lexer": "ipython3",
   "version": "3.10.12"
  }
 },
 "nbformat": 4,
 "nbformat_minor": 2
}
