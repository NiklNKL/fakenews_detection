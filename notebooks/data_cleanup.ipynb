{
 "cells": [
  {
   "cell_type": "code",
   "execution_count": 1,
   "metadata": {},
   "outputs": [
    {
     "data": {
      "text/html": [
       "<div>\n",
       "<style scoped>\n",
       "    .dataframe tbody tr th:only-of-type {\n",
       "        vertical-align: middle;\n",
       "    }\n",
       "\n",
       "    .dataframe tbody tr th {\n",
       "        vertical-align: top;\n",
       "    }\n",
       "\n",
       "    .dataframe thead th {\n",
       "        text-align: right;\n",
       "    }\n",
       "</style>\n",
       "<table border=\"1\" class=\"dataframe\">\n",
       "  <thead>\n",
       "    <tr style=\"text-align: right;\">\n",
       "      <th></th>\n",
       "      <th>title</th>\n",
       "      <th>author</th>\n",
       "      <th>text</th>\n",
       "      <th>label</th>\n",
       "    </tr>\n",
       "  </thead>\n",
       "  <tbody>\n",
       "    <tr>\n",
       "      <th>0</th>\n",
       "      <td>House Dem Aide: We Didn’t Even See Comey’s Let...</td>\n",
       "      <td>Darrell Lucus</td>\n",
       "      <td>House Dem Aide: We Didn’t Even See Comey’s Let...</td>\n",
       "      <td>1</td>\n",
       "    </tr>\n",
       "    <tr>\n",
       "      <th>1</th>\n",
       "      <td>FLYNN: Hillary Clinton, Big Woman on Campus - ...</td>\n",
       "      <td>Daniel J. Flynn</td>\n",
       "      <td>Ever get the feeling your life circles the rou...</td>\n",
       "      <td>0</td>\n",
       "    </tr>\n",
       "    <tr>\n",
       "      <th>2</th>\n",
       "      <td>Why the Truth Might Get You Fired</td>\n",
       "      <td>Consortiumnews.com</td>\n",
       "      <td>Why the Truth Might Get You Fired October 29, ...</td>\n",
       "      <td>1</td>\n",
       "    </tr>\n",
       "    <tr>\n",
       "      <th>3</th>\n",
       "      <td>15 Civilians Killed In Single US Airstrike Hav...</td>\n",
       "      <td>Jessica Purkiss</td>\n",
       "      <td>Videos 15 Civilians Killed In Single US Airstr...</td>\n",
       "      <td>1</td>\n",
       "    </tr>\n",
       "    <tr>\n",
       "      <th>4</th>\n",
       "      <td>Iranian woman jailed for fictional unpublished...</td>\n",
       "      <td>Howard Portnoy</td>\n",
       "      <td>Print \\nAn Iranian woman has been sentenced to...</td>\n",
       "      <td>1</td>\n",
       "    </tr>\n",
       "    <tr>\n",
       "      <th>...</th>\n",
       "      <td>...</td>\n",
       "      <td>...</td>\n",
       "      <td>...</td>\n",
       "      <td>...</td>\n",
       "    </tr>\n",
       "    <tr>\n",
       "      <th>20795</th>\n",
       "      <td>Rapper T.I.: Trump a ’Poster Child For White S...</td>\n",
       "      <td>Jerome Hudson</td>\n",
       "      <td>Rapper T. I. unloaded on black celebrities who...</td>\n",
       "      <td>0</td>\n",
       "    </tr>\n",
       "    <tr>\n",
       "      <th>20796</th>\n",
       "      <td>N.F.L. Playoffs: Schedule, Matchups and Odds -...</td>\n",
       "      <td>Benjamin Hoffman</td>\n",
       "      <td>When the Green Bay Packers lost to the Washing...</td>\n",
       "      <td>0</td>\n",
       "    </tr>\n",
       "    <tr>\n",
       "      <th>20797</th>\n",
       "      <td>Macy’s Is Said to Receive Takeover Approach by...</td>\n",
       "      <td>Michael J. de la Merced and Rachel Abrams</td>\n",
       "      <td>The Macy’s of today grew from the union of sev...</td>\n",
       "      <td>0</td>\n",
       "    </tr>\n",
       "    <tr>\n",
       "      <th>20798</th>\n",
       "      <td>NATO, Russia To Hold Parallel Exercises In Bal...</td>\n",
       "      <td>Alex Ansary</td>\n",
       "      <td>NATO, Russia To Hold Parallel Exercises In Bal...</td>\n",
       "      <td>1</td>\n",
       "    </tr>\n",
       "    <tr>\n",
       "      <th>20799</th>\n",
       "      <td>What Keeps the F-35 Alive</td>\n",
       "      <td>David Swanson</td>\n",
       "      <td>David Swanson is an author, activist, journa...</td>\n",
       "      <td>1</td>\n",
       "    </tr>\n",
       "  </tbody>\n",
       "</table>\n",
       "<p>20800 rows × 4 columns</p>\n",
       "</div>"
      ],
      "text/plain": [
       "                                                   title  \\\n",
       "0      House Dem Aide: We Didn’t Even See Comey’s Let...   \n",
       "1      FLYNN: Hillary Clinton, Big Woman on Campus - ...   \n",
       "2                      Why the Truth Might Get You Fired   \n",
       "3      15 Civilians Killed In Single US Airstrike Hav...   \n",
       "4      Iranian woman jailed for fictional unpublished...   \n",
       "...                                                  ...   \n",
       "20795  Rapper T.I.: Trump a ’Poster Child For White S...   \n",
       "20796  N.F.L. Playoffs: Schedule, Matchups and Odds -...   \n",
       "20797  Macy’s Is Said to Receive Takeover Approach by...   \n",
       "20798  NATO, Russia To Hold Parallel Exercises In Bal...   \n",
       "20799                          What Keeps the F-35 Alive   \n",
       "\n",
       "                                          author  \\\n",
       "0                                  Darrell Lucus   \n",
       "1                                Daniel J. Flynn   \n",
       "2                             Consortiumnews.com   \n",
       "3                                Jessica Purkiss   \n",
       "4                                 Howard Portnoy   \n",
       "...                                          ...   \n",
       "20795                              Jerome Hudson   \n",
       "20796                           Benjamin Hoffman   \n",
       "20797  Michael J. de la Merced and Rachel Abrams   \n",
       "20798                                Alex Ansary   \n",
       "20799                              David Swanson   \n",
       "\n",
       "                                                    text  label  \n",
       "0      House Dem Aide: We Didn’t Even See Comey’s Let...      1  \n",
       "1      Ever get the feeling your life circles the rou...      0  \n",
       "2      Why the Truth Might Get You Fired October 29, ...      1  \n",
       "3      Videos 15 Civilians Killed In Single US Airstr...      1  \n",
       "4      Print \\nAn Iranian woman has been sentenced to...      1  \n",
       "...                                                  ...    ...  \n",
       "20795  Rapper T. I. unloaded on black celebrities who...      0  \n",
       "20796  When the Green Bay Packers lost to the Washing...      0  \n",
       "20797  The Macy’s of today grew from the union of sev...      0  \n",
       "20798  NATO, Russia To Hold Parallel Exercises In Bal...      1  \n",
       "20799    David Swanson is an author, activist, journa...      1  \n",
       "\n",
       "[20800 rows x 4 columns]"
      ]
     },
     "metadata": {},
     "output_type": "display_data"
    }
   ],
   "source": [
    "import pandas as pd\n",
    "\n",
    "df = pd.read_parquet('data/train.parquet')\n",
    "display(df)"
   ]
  },
  {
   "cell_type": "code",
   "execution_count": 2,
   "metadata": {},
   "outputs": [
    {
     "name": "stdout",
     "output_type": "stream",
     "text": [
      "<class 'pandas.core.frame.DataFrame'>\n",
      "RangeIndex: 20800 entries, 0 to 20799\n",
      "Data columns (total 4 columns):\n",
      " #   Column  Non-Null Count  Dtype \n",
      "---  ------  --------------  ----- \n",
      " 0   title   20242 non-null  object\n",
      " 1   author  18843 non-null  object\n",
      " 2   text    20761 non-null  object\n",
      " 3   label   20800 non-null  int64 \n",
      "dtypes: int64(1), object(3)\n",
      "memory usage: 650.1+ KB\n",
      "Null values per column:\n"
     ]
    },
    {
     "data": {
      "text/plain": [
       "title      558\n",
       "author    1957\n",
       "text        39\n",
       "label        0\n",
       "dtype: int64"
      ]
     },
     "execution_count": 2,
     "metadata": {},
     "output_type": "execute_result"
    }
   ],
   "source": [
    "df.info()\n",
    "print(\"Null values per column:\")\n",
    "df.isnull().sum()"
   ]
  },
  {
   "cell_type": "code",
   "execution_count": null,
   "metadata": {},
   "outputs": [
    {
     "name": "stdout",
     "output_type": "stream",
     "text": [
      "<class 'pandas.core.frame.DataFrame'>\n",
      "Index: 20203 entries, 0 to 20799\n",
      "Data columns (total 4 columns):\n",
      " #   Column  Non-Null Count  Dtype \n",
      "---  ------  --------------  ----- \n",
      " 0   title   20203 non-null  object\n",
      " 1   author  20203 non-null  object\n",
      " 2   text    20203 non-null  object\n",
      " 3   label   20203 non-null  int64 \n",
      "dtypes: int64(1), object(3)\n",
      "memory usage: 789.2+ KB\n"
     ]
    },
    {
     "name": "stderr",
     "output_type": "stream",
     "text": [
      "/tmp/ipykernel_298/435593529.py:2: SettingWithCopyWarning: \n",
      "A value is trying to be set on a copy of a slice from a DataFrame.\n",
      "Try using .loc[row_indexer,col_indexer] = value instead\n",
      "\n",
      "See the caveats in the documentation: https://pandas.pydata.org/pandas-docs/stable/user_guide/indexing.html#returning-a-view-versus-a-copy\n",
      "  df_without_na[\"author\"] = df_without_na[\"author\"].fillna(\"Unknown\")\n"
     ]
    }
   ],
   "source": [
    "df_without_na = df.dropna(subset=[\"title\", \"text\"])\n",
    "df_without_na[\"author\"] = df_without_na[\"author\"].fillna(\"Unknown\")\n",
    "df_without_na.info()"
   ]
  },
  {
   "cell_type": "code",
   "execution_count": 4,
   "metadata": {},
   "outputs": [
    {
     "name": "stderr",
     "output_type": "stream",
     "text": [
      "/tmp/ipykernel_298/364637105.py:1: SettingWithCopyWarning: \n",
      "A value is trying to be set on a copy of a slice from a DataFrame.\n",
      "Try using .loc[row_indexer,col_indexer] = value instead\n",
      "\n",
      "See the caveats in the documentation: https://pandas.pydata.org/pandas-docs/stable/user_guide/indexing.html#returning-a-view-versus-a-copy\n",
      "  df_without_na[\"complete_text\"] = df_without_na[\"title\"] + \" \" + df_without_na[\"text\"]\n"
     ]
    },
    {
     "data": {
      "text/plain": [
       "0        House Dem Aide: We Didn’t Even See Comey’s Let...\n",
       "1        FLYNN: Hillary Clinton, Big Woman on Campus - ...\n",
       "2        Why the Truth Might Get You Fired Why the Trut...\n",
       "3        15 Civilians Killed In Single US Airstrike Hav...\n",
       "4        Iranian woman jailed for fictional unpublished...\n",
       "                               ...                        \n",
       "20795    Rapper T.I.: Trump a ’Poster Child For White S...\n",
       "20796    N.F.L. Playoffs: Schedule, Matchups and Odds -...\n",
       "20797    Macy’s Is Said to Receive Takeover Approach by...\n",
       "20798    NATO, Russia To Hold Parallel Exercises In Bal...\n",
       "20799    What Keeps the F-35 Alive   David Swanson is a...\n",
       "Name: complete_text, Length: 20203, dtype: object"
      ]
     },
     "metadata": {},
     "output_type": "display_data"
    }
   ],
   "source": [
    "df_without_na[\"complete_text\"] = df_without_na[\"title\"] + \" \" + df_without_na[\"text\"]\n",
    "display(df_without_na[\"complete_text\"])"
   ]
  },
  {
   "cell_type": "code",
   "execution_count": 5,
   "metadata": {},
   "outputs": [
    {
     "data": {
      "text/plain": [
       "0        house dem aide we didn’t even see comey’s lett...\n",
       "1        flynn hillary clinton big woman on campus brei...\n",
       "2        why the truth might get you fired why the trut...\n",
       "3        civilians killed in single us airstrike have b...\n",
       "4        iranian woman jailed for fictional unpublished...\n",
       "                               ...                        \n",
       "20795    rapper t i trump a ’poster child for white sup...\n",
       "20796    n f l playoffs schedule matchups and odds the ...\n",
       "20797    macy’s is said to receive takeover approach by...\n",
       "20798    nato russia to hold parallel exercises in balk...\n",
       "20799    what keeps the f alive david swanson is an aut...\n",
       "Name: cleaned_text, Length: 20203, dtype: object"
      ]
     },
     "metadata": {},
     "output_type": "display_data"
    }
   ],
   "source": [
    "cleaned_df = df_without_na.copy()\n",
    "cleaned_df[\"cleaned_text\"] = cleaned_df[\"complete_text\"]\n",
    "cleaned_df.loc[:, \"cleaned_text\"] = (\n",
    "    cleaned_df[\"cleaned_text\"]\n",
    "    .str.lower()                                    # Convert to lowercase\n",
    "    .replace(r'http[\\w:/\\.]+', ' ', regex=True)     # Remove URLs\n",
    "    .replace(r\"[^a-z\\s'’]\", \" \", regex=True)        # Remove everything except lowercase letters, spaces, and apostrophes\n",
    "    .replace(r'\\s\\s+', ' ', regex=True)             # Collapse multiple spaces\n",
    "    .str.strip()                                    # Remove leading/trailing spaces\n",
    ")\n",
    "display(cleaned_df[\"cleaned_text\"])"
   ]
  },
  {
   "cell_type": "code",
   "execution_count": 6,
   "metadata": {},
   "outputs": [
    {
     "data": {
      "text/plain": [
       "0        house dem aide we did not even see comey’s let...\n",
       "1        flynn hillary clinton big woman on campus brei...\n",
       "2        why the truth might get you fired why the trut...\n",
       "3        civilians killed in single us airstrike have b...\n",
       "4        iranian woman jailed for fictional unpublished...\n",
       "                               ...                        \n",
       "20795    rapper t i trump a ’poster child for white sup...\n",
       "20796    n f l playoffs schedule matchups and odds the ...\n",
       "20797    macy’s is said to receive takeover approach by...\n",
       "20798    nato russia to hold parallel exercises in balk...\n",
       "20799    what keeps the f alive david swanson is an aut...\n",
       "Name: cleaned_text, Length: 20203, dtype: object"
      ]
     },
     "metadata": {},
     "output_type": "display_data"
    }
   ],
   "source": [
    "import contractions\n",
    "\n",
    "cleaned_df[\"cleaned_text\"] = cleaned_df[\"cleaned_text\"].apply(\n",
    "    lambda x: contractions.fix(x) if isinstance(x, str) else x\n",
    ")\n",
    "display(cleaned_df[\"cleaned_text\"])"
   ]
  },
  {
   "cell_type": "code",
   "execution_count": 7,
   "metadata": {},
   "outputs": [
    {
     "data": {
      "text/plain": [
       "0        house dem aide we did not even see comeys lett...\n",
       "1        flynn hillary clinton big woman on campus brei...\n",
       "2        why the truth might get you fired why the trut...\n",
       "3        civilians killed in single us airstrike have b...\n",
       "4        iranian woman jailed for fictional unpublished...\n",
       "                               ...                        \n",
       "20795    rapper t i trump a poster child for white supr...\n",
       "20796    n f l playoffs schedule matchups and odds the ...\n",
       "20797    macys is said to receive takeover approach by ...\n",
       "20798    nato russia to hold parallel exercises in balk...\n",
       "20799    what keeps the f alive david swanson is an aut...\n",
       "Name: cleaned_text, Length: 20203, dtype: object"
      ]
     },
     "metadata": {},
     "output_type": "display_data"
    }
   ],
   "source": [
    "cleaned_df['cleaned_text'] = cleaned_df['cleaned_text'].replace(r\"’\", \"\", regex=True)\n",
    "display(cleaned_df[\"cleaned_text\"])"
   ]
  },
  {
   "cell_type": "markdown",
   "metadata": {},
   "source": [
    "# Apply Lemmatization in Parallel"
   ]
  },
  {
   "cell_type": "code",
   "execution_count": 10,
   "metadata": {},
   "outputs": [
    {
     "name": "stdout",
     "output_type": "stream",
     "text": [
      "Successfully loaded model: en_core_web_sm\n"
     ]
    }
   ],
   "source": [
    "from joblib import Parallel, delayed\n",
    "from spacy.lang.en.stop_words import STOP_WORDS\n",
    "import spacy\n",
    "from spacy.cli import download\n",
    "import gc\n",
    "\n",
    "# Download the SpaCy model if not already installed\n",
    "model_name = \"en_core_web_sm\"\n",
    "\n",
    "try:\n",
    "    nlp = spacy.load(model_name, disable=['parser', 'ner'])\n",
    "    print(f\"Successfully loaded model: {model_name}\")\n",
    "except OSError:\n",
    "    print(f\"Model '{model_name}' not found. Downloading...\")\n",
    "    download(model_name)\n",
    "    nlp = spacy.load(model_name, disable=['parser', 'ner'])\n",
    "    print(f\"Successfully downloaded and loaded model: {model_name}\")\n",
    "\n",
    "nlp.add_pipe('sentencizer')\n",
    "\n",
    "stopwords = STOP_WORDS  \n",
    "\n",
    "# Function to lemmatize a single document\n",
    "def lemmatize_doc(doc):\n",
    "    return ' '.join(\n",
    "        tok.lemma_.lower()\n",
    "        for tok in doc\n",
    "        if tok.is_alpha and tok.text.lower() not in stopwords\n",
    "    )\n",
    "\n",
    "def chunker(iterable, total_length, chunksize):\n",
    "    for pos in range(0, total_length, chunksize):\n",
    "        yield iterable[pos: pos + chunksize]\n",
    "        \n",
    "# Flatten a list of lists\n",
    "def flatten(list_of_lists):\n",
    "    return [item for sublist in list_of_lists for item in sublist]\n",
    "\n",
    "# Process a chunk of texts in parallel\n",
    "def process_chunk(texts):\n",
    "    return [lemmatize_doc(doc) for doc in nlp.pipe(texts, batch_size=20)]\n",
    "\n",
    "# Main preprocessing function for parallel processing\n",
    "def preprocess_parallel(texts, chunksize=100):\n",
    "    with Parallel(n_jobs=-1, backend='multiprocessing', prefer=\"processes\") as executor:\n",
    "        tasks = (delayed(process_chunk)(chunk) for chunk in chunker(texts, len(texts), chunksize=chunksize))\n",
    "        result = executor(tasks)\n",
    "    gc.collect()\n",
    "    return flatten(result)"
   ]
  },
  {
   "cell_type": "code",
   "execution_count": 11,
   "metadata": {},
   "outputs": [
    {
     "data": {
      "text/plain": [
       "0        house dem aide comey letter jason chaffetz twe...\n",
       "1        flynn hillary clinton big woman campus breitba...\n",
       "2        truth fire truth fire october tension intellig...\n",
       "3        civilian kill single airstrike identify video ...\n",
       "4        iranian woman jail fictional unpublished story...\n",
       "                               ...                        \n",
       "20795    rapper t trump poster child white supremacy ra...\n",
       "20796    n f l playoff schedule matchup odd new york ti...\n",
       "20797    macys say receive takeover approach hudsons ba...\n",
       "20798    nato russia hold parallel exercise balkans nat...\n",
       "20799    keep f alive david swanson author activist jou...\n",
       "Name: lemmatized_text, Length: 20203, dtype: object"
      ]
     },
     "metadata": {},
     "output_type": "display_data"
    }
   ],
   "source": [
    "cleaned_df['lemmatized_text'] = preprocess_parallel(cleaned_df['cleaned_text'], chunksize=1000)\n",
    "display(cleaned_df['lemmatized_text'])"
   ]
  },
  {
   "cell_type": "code",
   "execution_count": 12,
   "metadata": {},
   "outputs": [
    {
     "name": "stdout",
     "output_type": "stream",
     "text": [
      "{'say', 'well', 'beside', 'did', 'seems', 'but', 'neither', 'my', 'amount', 'not', 'whereby', 'due', 'perhaps', 'an', 'than', 'its', \"'re\", 'along', 'never', 'using', \"'ll\", 'she', 'his', 'anyhow', 'hundred', 'onto', 'any', 're', 'eight', 'several', 'above', 'out', 'have', 'and', 'he', 'below', 'no', 'seeming', 'which', 'against', 'whatever', 'upon', 'thereby', 'became', 'to', 'has', '’ve', 'you', 'besides', 'doing', 'this', 'side', 'fifteen', 'though', 'could', 'her', 'whither', 'top', 'with', '’ll', 'four', 'make', 'formerly', 'if', 'much', 'latter', 'them', 'anyway', 'thereafter', 'show', 'more', 'ten', 'own', '‘m', 'until', 'might', 'whether', 'then', 'among', 'who', 'before', 'six', 'beforehand', 'within', 'hence', 'for', 'those', 'indeed', 'itself', 'former', 'otherwise', 'wherein', 'whose', 'had', 'i', 'anything', 'mine', 'part', 'amongst', 'being', 'sometime', 'third', 'from', 'whence', 'as', 'call', 'up', 'become', 'whole', 'everything', 'a', 'see', 'at', 'been', 'toward', 'only', 'or', '‘d', 'either', 'twenty', 'ourselves', 'mostly', 'thereupon', 'so', 'everyone', 'yourself', 'less', 'me', \"n't\", 'other', 'still', 'be', 'last', 'except', 'may', 'sometimes', 'because', 'am', 'fifty', 'although', 'both', 'bottom', 'same', 'since', 'name', 'it', 'these', 'already', 'what', 'should', 'some', 'under', 'here', 'after', 'yet', 'we', 'whenever', 'full', 'now', 'noone', 'always', 'nine', 'their', 'down', 'between', 'through', 'on', 'ever', 'behind', 'does', 'anyone', '‘re', 'together', 'moreover', 'every', '’m', 'how', 'wherever', 'while', 'something', 'where', 'all', 'further', 'another', '‘s', 'enough', 'yours', 'keep', 'can', 'afterwards', 'him', 'two', 'around', 'would', 'whoever', 'each', 'themselves', 'twelve', 'must', 'herself', 'meanwhile', 'elsewhere', 'sixty', 'few', 'myself', 'next', 'once', 'really', 'serious', 'by', 'none', 'nevertheless', 'why', 'first', 'of', 'many', 'five', 'thus', \"'m\", 'else', 'move', 'the', 'therefore', \"'ve\", 'give', 'unless', 'during', 'therein', 'empty', 'thru', 'used', 'even', 'eleven', 'front', '’s', 'they', 'that', 'three', 'ours', 'there', 'again', 'nor', 'your', '‘ve', '‘ll', 'seem', 'back', 'least', 'into', 'via', 'n‘t', 'us', 'alone', 'please', 'about', 'just', 'quite', 'various', 'anywhere', 'in', 'our', '’re', 'seemed', 'such', 'hereafter', 'also', 'take', 'himself', \"'s\", 'do', 'somewhere', 'herein', 'per', 'made', 'becoming', 'somehow', 'forty', 'regarding', 'one', 'however', 'off', 'when', 'whereas', 'cannot', 'is', 'someone', 'becomes', 'ca', 'go', 'were', 'across', 'rather', 'was', 'without', 'hereupon', 'nobody', 'latterly', 'almost', 'hers', 'too', 'whereafter', 'throughout', 'over', 'will', 'done', 'yourselves', 'whom', '’d', 'often', 'everywhere', 'put', 'nothing', 'most', 'n’t', 'get', 'very', 'nowhere', 'namely', 'others', \"'d\", 'are', 'thence', 'whereupon', 'hereby', 'towards', 'beyond'}\n"
     ]
    }
   ],
   "source": [
    "stopwords = nlp.Defaults.stop_words\n",
    "print(stopwords)"
   ]
  },
  {
   "cell_type": "code",
   "execution_count": 13,
   "metadata": {},
   "outputs": [
    {
     "data": {
      "text/plain": [
       "0        house dem aide comey letter jason chaffetz twe...\n",
       "1        flynn hillary clinton big woman campus breitba...\n",
       "2        truth fire truth fire october tension intellig...\n",
       "3        civilian kill single airstrike identify video ...\n",
       "4        iranian woman jail fictional unpublished story...\n",
       "                               ...                        \n",
       "20795    rapper t trump poster child white supremacy ra...\n",
       "20796    n f l playoff schedule matchup odd new york ti...\n",
       "20797    macys receive takeover approach hudsons bay ne...\n",
       "20798    nato russia hold parallel exercise balkans nat...\n",
       "20799    f alive david swanson author activist journali...\n",
       "Name: preprocessed_text, Length: 20203, dtype: object"
      ]
     },
     "metadata": {},
     "output_type": "display_data"
    }
   ],
   "source": [
    "def remove_stopwords(text):\n",
    "    tokens = text.split()\n",
    "    filtered_tokens = [token for token in tokens if token.lower() not in stopwords]\n",
    "    return ' '.join(filtered_tokens)\n",
    "\n",
    "cleaned_df['preprocessed_text'] = cleaned_df['lemmatized_text'].apply(remove_stopwords)\n",
    "display(cleaned_df[\"preprocessed_text\"])"
   ]
  },
  {
   "cell_type": "code",
   "execution_count": 14,
   "metadata": {},
   "outputs": [
    {
     "data": {
      "text/html": [
       "<div>\n",
       "<style scoped>\n",
       "    .dataframe tbody tr th:only-of-type {\n",
       "        vertical-align: middle;\n",
       "    }\n",
       "\n",
       "    .dataframe tbody tr th {\n",
       "        vertical-align: top;\n",
       "    }\n",
       "\n",
       "    .dataframe thead th {\n",
       "        text-align: right;\n",
       "    }\n",
       "</style>\n",
       "<table border=\"1\" class=\"dataframe\">\n",
       "  <thead>\n",
       "    <tr style=\"text-align: right;\">\n",
       "      <th></th>\n",
       "      <th>title</th>\n",
       "      <th>author</th>\n",
       "      <th>text</th>\n",
       "      <th>label</th>\n",
       "      <th>complete_text</th>\n",
       "      <th>cleaned_text</th>\n",
       "      <th>lemmatized_text</th>\n",
       "      <th>preprocessed_text</th>\n",
       "    </tr>\n",
       "  </thead>\n",
       "  <tbody>\n",
       "    <tr>\n",
       "      <th>0</th>\n",
       "      <td>House Dem Aide: We Didn’t Even See Comey’s Let...</td>\n",
       "      <td>Darrell Lucus</td>\n",
       "      <td>House Dem Aide: We Didn’t Even See Comey’s Let...</td>\n",
       "      <td>1</td>\n",
       "      <td>House Dem Aide: We Didn’t Even See Comey’s Let...</td>\n",
       "      <td>house dem aide we did not even see comeys lett...</td>\n",
       "      <td>house dem aide comey letter jason chaffetz twe...</td>\n",
       "      <td>house dem aide comey letter jason chaffetz twe...</td>\n",
       "    </tr>\n",
       "    <tr>\n",
       "      <th>1</th>\n",
       "      <td>FLYNN: Hillary Clinton, Big Woman on Campus - ...</td>\n",
       "      <td>Daniel J. Flynn</td>\n",
       "      <td>Ever get the feeling your life circles the rou...</td>\n",
       "      <td>0</td>\n",
       "      <td>FLYNN: Hillary Clinton, Big Woman on Campus - ...</td>\n",
       "      <td>flynn hillary clinton big woman on campus brei...</td>\n",
       "      <td>flynn hillary clinton big woman campus breitba...</td>\n",
       "      <td>flynn hillary clinton big woman campus breitba...</td>\n",
       "    </tr>\n",
       "    <tr>\n",
       "      <th>2</th>\n",
       "      <td>Why the Truth Might Get You Fired</td>\n",
       "      <td>Consortiumnews.com</td>\n",
       "      <td>Why the Truth Might Get You Fired October 29, ...</td>\n",
       "      <td>1</td>\n",
       "      <td>Why the Truth Might Get You Fired Why the Trut...</td>\n",
       "      <td>why the truth might get you fired why the trut...</td>\n",
       "      <td>truth fire truth fire october tension intellig...</td>\n",
       "      <td>truth fire truth fire october tension intellig...</td>\n",
       "    </tr>\n",
       "    <tr>\n",
       "      <th>3</th>\n",
       "      <td>15 Civilians Killed In Single US Airstrike Hav...</td>\n",
       "      <td>Jessica Purkiss</td>\n",
       "      <td>Videos 15 Civilians Killed In Single US Airstr...</td>\n",
       "      <td>1</td>\n",
       "      <td>15 Civilians Killed In Single US Airstrike Hav...</td>\n",
       "      <td>civilians killed in single us airstrike have b...</td>\n",
       "      <td>civilian kill single airstrike identify video ...</td>\n",
       "      <td>civilian kill single airstrike identify video ...</td>\n",
       "    </tr>\n",
       "    <tr>\n",
       "      <th>4</th>\n",
       "      <td>Iranian woman jailed for fictional unpublished...</td>\n",
       "      <td>Howard Portnoy</td>\n",
       "      <td>Print \\nAn Iranian woman has been sentenced to...</td>\n",
       "      <td>1</td>\n",
       "      <td>Iranian woman jailed for fictional unpublished...</td>\n",
       "      <td>iranian woman jailed for fictional unpublished...</td>\n",
       "      <td>iranian woman jail fictional unpublished story...</td>\n",
       "      <td>iranian woman jail fictional unpublished story...</td>\n",
       "    </tr>\n",
       "    <tr>\n",
       "      <th>...</th>\n",
       "      <td>...</td>\n",
       "      <td>...</td>\n",
       "      <td>...</td>\n",
       "      <td>...</td>\n",
       "      <td>...</td>\n",
       "      <td>...</td>\n",
       "      <td>...</td>\n",
       "      <td>...</td>\n",
       "    </tr>\n",
       "    <tr>\n",
       "      <th>20795</th>\n",
       "      <td>Rapper T.I.: Trump a ’Poster Child For White S...</td>\n",
       "      <td>Jerome Hudson</td>\n",
       "      <td>Rapper T. I. unloaded on black celebrities who...</td>\n",
       "      <td>0</td>\n",
       "      <td>Rapper T.I.: Trump a ’Poster Child For White S...</td>\n",
       "      <td>rapper t i trump a poster child for white supr...</td>\n",
       "      <td>rapper t trump poster child white supremacy ra...</td>\n",
       "      <td>rapper t trump poster child white supremacy ra...</td>\n",
       "    </tr>\n",
       "    <tr>\n",
       "      <th>20796</th>\n",
       "      <td>N.F.L. Playoffs: Schedule, Matchups and Odds -...</td>\n",
       "      <td>Benjamin Hoffman</td>\n",
       "      <td>When the Green Bay Packers lost to the Washing...</td>\n",
       "      <td>0</td>\n",
       "      <td>N.F.L. Playoffs: Schedule, Matchups and Odds -...</td>\n",
       "      <td>n f l playoffs schedule matchups and odds the ...</td>\n",
       "      <td>n f l playoff schedule matchup odd new york ti...</td>\n",
       "      <td>n f l playoff schedule matchup odd new york ti...</td>\n",
       "    </tr>\n",
       "    <tr>\n",
       "      <th>20797</th>\n",
       "      <td>Macy’s Is Said to Receive Takeover Approach by...</td>\n",
       "      <td>Michael J. de la Merced and Rachel Abrams</td>\n",
       "      <td>The Macy’s of today grew from the union of sev...</td>\n",
       "      <td>0</td>\n",
       "      <td>Macy’s Is Said to Receive Takeover Approach by...</td>\n",
       "      <td>macys is said to receive takeover approach by ...</td>\n",
       "      <td>macys say receive takeover approach hudsons ba...</td>\n",
       "      <td>macys receive takeover approach hudsons bay ne...</td>\n",
       "    </tr>\n",
       "    <tr>\n",
       "      <th>20798</th>\n",
       "      <td>NATO, Russia To Hold Parallel Exercises In Bal...</td>\n",
       "      <td>Alex Ansary</td>\n",
       "      <td>NATO, Russia To Hold Parallel Exercises In Bal...</td>\n",
       "      <td>1</td>\n",
       "      <td>NATO, Russia To Hold Parallel Exercises In Bal...</td>\n",
       "      <td>nato russia to hold parallel exercises in balk...</td>\n",
       "      <td>nato russia hold parallel exercise balkans nat...</td>\n",
       "      <td>nato russia hold parallel exercise balkans nat...</td>\n",
       "    </tr>\n",
       "    <tr>\n",
       "      <th>20799</th>\n",
       "      <td>What Keeps the F-35 Alive</td>\n",
       "      <td>David Swanson</td>\n",
       "      <td>David Swanson is an author, activist, journa...</td>\n",
       "      <td>1</td>\n",
       "      <td>What Keeps the F-35 Alive   David Swanson is a...</td>\n",
       "      <td>what keeps the f alive david swanson is an aut...</td>\n",
       "      <td>keep f alive david swanson author activist jou...</td>\n",
       "      <td>f alive david swanson author activist journali...</td>\n",
       "    </tr>\n",
       "  </tbody>\n",
       "</table>\n",
       "<p>20203 rows × 8 columns</p>\n",
       "</div>"
      ],
      "text/plain": [
       "                                                   title  \\\n",
       "0      House Dem Aide: We Didn’t Even See Comey’s Let...   \n",
       "1      FLYNN: Hillary Clinton, Big Woman on Campus - ...   \n",
       "2                      Why the Truth Might Get You Fired   \n",
       "3      15 Civilians Killed In Single US Airstrike Hav...   \n",
       "4      Iranian woman jailed for fictional unpublished...   \n",
       "...                                                  ...   \n",
       "20795  Rapper T.I.: Trump a ’Poster Child For White S...   \n",
       "20796  N.F.L. Playoffs: Schedule, Matchups and Odds -...   \n",
       "20797  Macy’s Is Said to Receive Takeover Approach by...   \n",
       "20798  NATO, Russia To Hold Parallel Exercises In Bal...   \n",
       "20799                          What Keeps the F-35 Alive   \n",
       "\n",
       "                                          author  \\\n",
       "0                                  Darrell Lucus   \n",
       "1                                Daniel J. Flynn   \n",
       "2                             Consortiumnews.com   \n",
       "3                                Jessica Purkiss   \n",
       "4                                 Howard Portnoy   \n",
       "...                                          ...   \n",
       "20795                              Jerome Hudson   \n",
       "20796                           Benjamin Hoffman   \n",
       "20797  Michael J. de la Merced and Rachel Abrams   \n",
       "20798                                Alex Ansary   \n",
       "20799                              David Swanson   \n",
       "\n",
       "                                                    text  label  \\\n",
       "0      House Dem Aide: We Didn’t Even See Comey’s Let...      1   \n",
       "1      Ever get the feeling your life circles the rou...      0   \n",
       "2      Why the Truth Might Get You Fired October 29, ...      1   \n",
       "3      Videos 15 Civilians Killed In Single US Airstr...      1   \n",
       "4      Print \\nAn Iranian woman has been sentenced to...      1   \n",
       "...                                                  ...    ...   \n",
       "20795  Rapper T. I. unloaded on black celebrities who...      0   \n",
       "20796  When the Green Bay Packers lost to the Washing...      0   \n",
       "20797  The Macy’s of today grew from the union of sev...      0   \n",
       "20798  NATO, Russia To Hold Parallel Exercises In Bal...      1   \n",
       "20799    David Swanson is an author, activist, journa...      1   \n",
       "\n",
       "                                           complete_text  \\\n",
       "0      House Dem Aide: We Didn’t Even See Comey’s Let...   \n",
       "1      FLYNN: Hillary Clinton, Big Woman on Campus - ...   \n",
       "2      Why the Truth Might Get You Fired Why the Trut...   \n",
       "3      15 Civilians Killed In Single US Airstrike Hav...   \n",
       "4      Iranian woman jailed for fictional unpublished...   \n",
       "...                                                  ...   \n",
       "20795  Rapper T.I.: Trump a ’Poster Child For White S...   \n",
       "20796  N.F.L. Playoffs: Schedule, Matchups and Odds -...   \n",
       "20797  Macy’s Is Said to Receive Takeover Approach by...   \n",
       "20798  NATO, Russia To Hold Parallel Exercises In Bal...   \n",
       "20799  What Keeps the F-35 Alive   David Swanson is a...   \n",
       "\n",
       "                                            cleaned_text  \\\n",
       "0      house dem aide we did not even see comeys lett...   \n",
       "1      flynn hillary clinton big woman on campus brei...   \n",
       "2      why the truth might get you fired why the trut...   \n",
       "3      civilians killed in single us airstrike have b...   \n",
       "4      iranian woman jailed for fictional unpublished...   \n",
       "...                                                  ...   \n",
       "20795  rapper t i trump a poster child for white supr...   \n",
       "20796  n f l playoffs schedule matchups and odds the ...   \n",
       "20797  macys is said to receive takeover approach by ...   \n",
       "20798  nato russia to hold parallel exercises in balk...   \n",
       "20799  what keeps the f alive david swanson is an aut...   \n",
       "\n",
       "                                         lemmatized_text  \\\n",
       "0      house dem aide comey letter jason chaffetz twe...   \n",
       "1      flynn hillary clinton big woman campus breitba...   \n",
       "2      truth fire truth fire october tension intellig...   \n",
       "3      civilian kill single airstrike identify video ...   \n",
       "4      iranian woman jail fictional unpublished story...   \n",
       "...                                                  ...   \n",
       "20795  rapper t trump poster child white supremacy ra...   \n",
       "20796  n f l playoff schedule matchup odd new york ti...   \n",
       "20797  macys say receive takeover approach hudsons ba...   \n",
       "20798  nato russia hold parallel exercise balkans nat...   \n",
       "20799  keep f alive david swanson author activist jou...   \n",
       "\n",
       "                                       preprocessed_text  \n",
       "0      house dem aide comey letter jason chaffetz twe...  \n",
       "1      flynn hillary clinton big woman campus breitba...  \n",
       "2      truth fire truth fire october tension intellig...  \n",
       "3      civilian kill single airstrike identify video ...  \n",
       "4      iranian woman jail fictional unpublished story...  \n",
       "...                                                  ...  \n",
       "20795  rapper t trump poster child white supremacy ra...  \n",
       "20796  n f l playoff schedule matchup odd new york ti...  \n",
       "20797  macys receive takeover approach hudsons bay ne...  \n",
       "20798  nato russia hold parallel exercise balkans nat...  \n",
       "20799  f alive david swanson author activist journali...  \n",
       "\n",
       "[20203 rows x 8 columns]"
      ]
     },
     "metadata": {},
     "output_type": "display_data"
    }
   ],
   "source": [
    "display(cleaned_df)"
   ]
  },
  {
   "cell_type": "code",
   "execution_count": 15,
   "metadata": {},
   "outputs": [],
   "source": [
    "cleaned_df.to_parquet('data/train_cleaned.parquet')"
   ]
  }
 ],
 "metadata": {
  "kernelspec": {
   "display_name": ".venv",
   "language": "python",
   "name": "python3"
  },
  "language_info": {
   "codemirror_mode": {
    "name": "ipython",
    "version": 3
   },
   "file_extension": ".py",
   "mimetype": "text/x-python",
   "name": "python",
   "nbconvert_exporter": "python",
   "pygments_lexer": "ipython3",
   "version": "3.10.12"
  }
 },
 "nbformat": 4,
 "nbformat_minor": 2
}
