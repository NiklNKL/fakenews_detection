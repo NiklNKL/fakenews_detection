{
 "cells": [
  {
   "cell_type": "markdown",
   "metadata": {},
   "source": [
    "# links\n",
    "\n",
    "https://www.analyticsvidhya.com/blog/2021/07/detecting-fake-news-with-natural-language-processing/\n",
    "\n",
    "https://www.analyticsvidhya.com/blog/2021/03/introduction-to-gated-recurrent-unit-gru/\n",
    "\n",
    "https://medium.com/@saitejaponugoti/stop-words-in-nlp-5b248dadad47\n",
    "\n",
    "https://thepythoncode.com/article/fake-news-classification-in-python\n",
    "\n",
    "https://dl.acm.org/doi/10.1016/j.procs.2024.03.237\n",
    "\n",
    "https://www.youtube.com/watch?app=desktop&v=rdz0UqQz5Sw&t=0s\n",
    "\n",
    "https://medium.com/@rajvir.ahmed.shuvo/improving-fake-news-detection-a-journey-through-text-classification-c521b1509cee\n",
    "\n",
    "https://medium.com/@carmenscartezini/fake-news-classification-tensorflow-x-pytorch-2a8f471a3713\n",
    "\n",
    "https://towardsdatascience.com/detecting-fake-news-with-and-without-code-dd330ed449d9\n",
    "\n",
    "https://towardsdatascience.com/turbo-charge-your-spacy-nlp-pipeline-551435b664ad\n",
    "\n"
   ]
  },
  {
   "cell_type": "code",
   "execution_count": 1,
   "metadata": {},
   "outputs": [
    {
     "data": {
      "text/html": [
       "<div>\n",
       "<style scoped>\n",
       "    .dataframe tbody tr th:only-of-type {\n",
       "        vertical-align: middle;\n",
       "    }\n",
       "\n",
       "    .dataframe tbody tr th {\n",
       "        vertical-align: top;\n",
       "    }\n",
       "\n",
       "    .dataframe thead th {\n",
       "        text-align: right;\n",
       "    }\n",
       "</style>\n",
       "<table border=\"1\" class=\"dataframe\">\n",
       "  <thead>\n",
       "    <tr style=\"text-align: right;\">\n",
       "      <th></th>\n",
       "      <th>title</th>\n",
       "      <th>author</th>\n",
       "      <th>text</th>\n",
       "      <th>label</th>\n",
       "    </tr>\n",
       "  </thead>\n",
       "  <tbody>\n",
       "    <tr>\n",
       "      <th>0</th>\n",
       "      <td>House Dem Aide: We Didn’t Even See Comey’s Let...</td>\n",
       "      <td>Darrell Lucus</td>\n",
       "      <td>House Dem Aide: We Didn’t Even See Comey’s Let...</td>\n",
       "      <td>1</td>\n",
       "    </tr>\n",
       "    <tr>\n",
       "      <th>1</th>\n",
       "      <td>FLYNN: Hillary Clinton, Big Woman on Campus - ...</td>\n",
       "      <td>Daniel J. Flynn</td>\n",
       "      <td>Ever get the feeling your life circles the rou...</td>\n",
       "      <td>0</td>\n",
       "    </tr>\n",
       "    <tr>\n",
       "      <th>2</th>\n",
       "      <td>Why the Truth Might Get You Fired</td>\n",
       "      <td>Consortiumnews.com</td>\n",
       "      <td>Why the Truth Might Get You Fired October 29, ...</td>\n",
       "      <td>1</td>\n",
       "    </tr>\n",
       "    <tr>\n",
       "      <th>3</th>\n",
       "      <td>15 Civilians Killed In Single US Airstrike Hav...</td>\n",
       "      <td>Jessica Purkiss</td>\n",
       "      <td>Videos 15 Civilians Killed In Single US Airstr...</td>\n",
       "      <td>1</td>\n",
       "    </tr>\n",
       "    <tr>\n",
       "      <th>4</th>\n",
       "      <td>Iranian woman jailed for fictional unpublished...</td>\n",
       "      <td>Howard Portnoy</td>\n",
       "      <td>Print \\nAn Iranian woman has been sentenced to...</td>\n",
       "      <td>1</td>\n",
       "    </tr>\n",
       "    <tr>\n",
       "      <th>...</th>\n",
       "      <td>...</td>\n",
       "      <td>...</td>\n",
       "      <td>...</td>\n",
       "      <td>...</td>\n",
       "    </tr>\n",
       "    <tr>\n",
       "      <th>20795</th>\n",
       "      <td>Rapper T.I.: Trump a ’Poster Child For White S...</td>\n",
       "      <td>Jerome Hudson</td>\n",
       "      <td>Rapper T. I. unloaded on black celebrities who...</td>\n",
       "      <td>0</td>\n",
       "    </tr>\n",
       "    <tr>\n",
       "      <th>20796</th>\n",
       "      <td>N.F.L. Playoffs: Schedule, Matchups and Odds -...</td>\n",
       "      <td>Benjamin Hoffman</td>\n",
       "      <td>When the Green Bay Packers lost to the Washing...</td>\n",
       "      <td>0</td>\n",
       "    </tr>\n",
       "    <tr>\n",
       "      <th>20797</th>\n",
       "      <td>Macy’s Is Said to Receive Takeover Approach by...</td>\n",
       "      <td>Michael J. de la Merced and Rachel Abrams</td>\n",
       "      <td>The Macy’s of today grew from the union of sev...</td>\n",
       "      <td>0</td>\n",
       "    </tr>\n",
       "    <tr>\n",
       "      <th>20798</th>\n",
       "      <td>NATO, Russia To Hold Parallel Exercises In Bal...</td>\n",
       "      <td>Alex Ansary</td>\n",
       "      <td>NATO, Russia To Hold Parallel Exercises In Bal...</td>\n",
       "      <td>1</td>\n",
       "    </tr>\n",
       "    <tr>\n",
       "      <th>20799</th>\n",
       "      <td>What Keeps the F-35 Alive</td>\n",
       "      <td>David Swanson</td>\n",
       "      <td>David Swanson is an author, activist, journa...</td>\n",
       "      <td>1</td>\n",
       "    </tr>\n",
       "  </tbody>\n",
       "</table>\n",
       "<p>20800 rows × 4 columns</p>\n",
       "</div>"
      ],
      "text/plain": [
       "                                                   title  \\\n",
       "0      House Dem Aide: We Didn’t Even See Comey’s Let...   \n",
       "1      FLYNN: Hillary Clinton, Big Woman on Campus - ...   \n",
       "2                      Why the Truth Might Get You Fired   \n",
       "3      15 Civilians Killed In Single US Airstrike Hav...   \n",
       "4      Iranian woman jailed for fictional unpublished...   \n",
       "...                                                  ...   \n",
       "20795  Rapper T.I.: Trump a ’Poster Child For White S...   \n",
       "20796  N.F.L. Playoffs: Schedule, Matchups and Odds -...   \n",
       "20797  Macy’s Is Said to Receive Takeover Approach by...   \n",
       "20798  NATO, Russia To Hold Parallel Exercises In Bal...   \n",
       "20799                          What Keeps the F-35 Alive   \n",
       "\n",
       "                                          author  \\\n",
       "0                                  Darrell Lucus   \n",
       "1                                Daniel J. Flynn   \n",
       "2                             Consortiumnews.com   \n",
       "3                                Jessica Purkiss   \n",
       "4                                 Howard Portnoy   \n",
       "...                                          ...   \n",
       "20795                              Jerome Hudson   \n",
       "20796                           Benjamin Hoffman   \n",
       "20797  Michael J. de la Merced and Rachel Abrams   \n",
       "20798                                Alex Ansary   \n",
       "20799                              David Swanson   \n",
       "\n",
       "                                                    text  label  \n",
       "0      House Dem Aide: We Didn’t Even See Comey’s Let...      1  \n",
       "1      Ever get the feeling your life circles the rou...      0  \n",
       "2      Why the Truth Might Get You Fired October 29, ...      1  \n",
       "3      Videos 15 Civilians Killed In Single US Airstr...      1  \n",
       "4      Print \\nAn Iranian woman has been sentenced to...      1  \n",
       "...                                                  ...    ...  \n",
       "20795  Rapper T. I. unloaded on black celebrities who...      0  \n",
       "20796  When the Green Bay Packers lost to the Washing...      0  \n",
       "20797  The Macy’s of today grew from the union of sev...      0  \n",
       "20798  NATO, Russia To Hold Parallel Exercises In Bal...      1  \n",
       "20799    David Swanson is an author, activist, journa...      1  \n",
       "\n",
       "[20800 rows x 4 columns]"
      ]
     },
     "metadata": {},
     "output_type": "display_data"
    }
   ],
   "source": [
    "import pandas as pd\n",
    "\n",
    "train = pd.read_parquet('data/train.parquet')\n",
    "display(train)"
   ]
  },
  {
   "cell_type": "code",
   "execution_count": 2,
   "metadata": {},
   "outputs": [
    {
     "name": "stdout",
     "output_type": "stream",
     "text": [
      "<class 'pandas.core.frame.DataFrame'>\n",
      "RangeIndex: 20800 entries, 0 to 20799\n",
      "Data columns (total 4 columns):\n",
      " #   Column  Non-Null Count  Dtype \n",
      "---  ------  --------------  ----- \n",
      " 0   title   20242 non-null  object\n",
      " 1   author  18843 non-null  object\n",
      " 2   text    20761 non-null  object\n",
      " 3   label   20800 non-null  int64 \n",
      "dtypes: int64(1), object(3)\n",
      "memory usage: 650.1+ KB\n"
     ]
    }
   ],
   "source": [
    "train.info()"
   ]
  },
  {
   "cell_type": "code",
   "execution_count": 3,
   "metadata": {},
   "outputs": [
    {
     "data": {
      "text/plain": [
       "title      558\n",
       "author    1957\n",
       "text        39\n",
       "label        0\n",
       "dtype: int64"
      ]
     },
     "execution_count": 3,
     "metadata": {},
     "output_type": "execute_result"
    }
   ],
   "source": [
    "train.isnull().sum()"
   ]
  },
  {
   "cell_type": "code",
   "execution_count": 4,
   "metadata": {},
   "outputs": [
    {
     "name": "stdout",
     "output_type": "stream",
     "text": [
      "<class 'pandas.core.frame.DataFrame'>\n",
      "Index: 20203 entries, 0 to 20799\n",
      "Data columns (total 4 columns):\n",
      " #   Column  Non-Null Count  Dtype \n",
      "---  ------  --------------  ----- \n",
      " 0   title   20203 non-null  object\n",
      " 1   author  18285 non-null  object\n",
      " 2   text    20203 non-null  object\n",
      " 3   label   20203 non-null  int64 \n",
      "dtypes: int64(1), object(3)\n",
      "memory usage: 789.2+ KB\n",
      "<class 'pandas.core.frame.DataFrame'>\n",
      "Index: 20203 entries, 0 to 20799\n",
      "Data columns (total 4 columns):\n",
      " #   Column  Non-Null Count  Dtype \n",
      "---  ------  --------------  ----- \n",
      " 0   title   20203 non-null  object\n",
      " 1   author  20203 non-null  object\n",
      " 2   text    20203 non-null  object\n",
      " 3   label   20203 non-null  int64 \n",
      "dtypes: int64(1), object(3)\n",
      "memory usage: 789.2+ KB\n"
     ]
    },
    {
     "name": "stderr",
     "output_type": "stream",
     "text": [
      "/tmp/ipykernel_362/2309681875.py:4: SettingWithCopyWarning: \n",
      "A value is trying to be set on a copy of a slice from a DataFrame.\n",
      "Try using .loc[row_indexer,col_indexer] = value instead\n",
      "\n",
      "See the caveats in the documentation: https://pandas.pydata.org/pandas-docs/stable/user_guide/indexing.html#returning-a-view-versus-a-copy\n",
      "  cleaned_df[\"author\"] = cleaned_df[\"author\"].fillna(\"Unknown\")\n"
     ]
    }
   ],
   "source": [
    "cleaned_df = train.dropna(subset=[\"title\", \"text\"])\n",
    "cleaned_df.info()\n",
    "\n",
    "cleaned_df[\"author\"] = cleaned_df[\"author\"].fillna(\"Unknown\")\n",
    "cleaned_df.info()"
   ]
  },
  {
   "cell_type": "code",
   "execution_count": 5,
   "metadata": {},
   "outputs": [
    {
     "name": "stderr",
     "output_type": "stream",
     "text": [
      "/tmp/ipykernel_362/1132859349.py:1: SettingWithCopyWarning: \n",
      "A value is trying to be set on a copy of a slice from a DataFrame.\n",
      "Try using .loc[row_indexer,col_indexer] = value instead\n",
      "\n",
      "See the caveats in the documentation: https://pandas.pydata.org/pandas-docs/stable/user_guide/indexing.html#returning-a-view-versus-a-copy\n",
      "  cleaned_df[\"merged_text\"] = cleaned_df[\"title\"] + \" \" + cleaned_df[\"text\"]\n"
     ]
    },
    {
     "data": {
      "text/plain": [
       "0        House Dem Aide: We Didn’t Even See Comey’s Let...\n",
       "1        FLYNN: Hillary Clinton, Big Woman on Campus - ...\n",
       "2        Why the Truth Might Get You Fired Why the Trut...\n",
       "3        15 Civilians Killed In Single US Airstrike Hav...\n",
       "4        Iranian woman jailed for fictional unpublished...\n",
       "                               ...                        \n",
       "20795    Rapper T.I.: Trump a ’Poster Child For White S...\n",
       "20796    N.F.L. Playoffs: Schedule, Matchups and Odds -...\n",
       "20797    Macy’s Is Said to Receive Takeover Approach by...\n",
       "20798    NATO, Russia To Hold Parallel Exercises In Bal...\n",
       "20799    What Keeps the F-35 Alive   David Swanson is a...\n",
       "Name: merged_text, Length: 20203, dtype: object"
      ]
     },
     "metadata": {},
     "output_type": "display_data"
    }
   ],
   "source": [
    "cleaned_df[\"merged_text\"] = cleaned_df[\"title\"] + \" \" + cleaned_df[\"text\"]\n",
    "display(cleaned_df[\"merged_text\"])"
   ]
  },
  {
   "cell_type": "code",
   "execution_count": 6,
   "metadata": {},
   "outputs": [
    {
     "data": {
      "text/plain": [
       "0        house dem aide we didn’t even see comey’s lett...\n",
       "1        flynn hillary clinton big woman on campus brei...\n",
       "2        why the truth might get you fired why the trut...\n",
       "3        civilians killed in single us airstrike have b...\n",
       "4        iranian woman jailed for fictional unpublished...\n",
       "                               ...                        \n",
       "20795    rapper t i trump a ’poster child for white sup...\n",
       "20796    n f l playoffs schedule matchups and odds the ...\n",
       "20797    macy’s is said to receive takeover approach by...\n",
       "20798    nato russia to hold parallel exercises in balk...\n",
       "20799    what keeps the f alive david swanson is an aut...\n",
       "Name: merged_text, Length: 20203, dtype: object"
      ]
     },
     "metadata": {},
     "output_type": "display_data"
    }
   ],
   "source": [
    "cleaned_df.loc[:, \"merged_text\"] = (\n",
    "    cleaned_df[\"merged_text\"]\n",
    "    .str.lower()\n",
    "    .replace(r'http[\\w:/\\.]+', ' ', regex=True)  # Remove URLs\n",
    "    .replace(r\"[^a-z\\s'’]\", \" \", regex=True)      # Remove everything except lowercase letters, spaces, and apostrophes\n",
    "    .replace(r'\\s\\s+', ' ', regex=True)         # Collapse multiple spaces\n",
    "    .str.strip()                                # Remove leading/trailing spaces\n",
    ")\n",
    "display(cleaned_df[\"merged_text\"])"
   ]
  },
  {
   "cell_type": "code",
   "execution_count": 7,
   "metadata": {},
   "outputs": [
    {
     "name": "stderr",
     "output_type": "stream",
     "text": [
      "/tmp/ipykernel_362/1282668482.py:2: SettingWithCopyWarning: \n",
      "A value is trying to be set on a copy of a slice from a DataFrame.\n",
      "Try using .loc[row_indexer,col_indexer] = value instead\n",
      "\n",
      "See the caveats in the documentation: https://pandas.pydata.org/pandas-docs/stable/user_guide/indexing.html#returning-a-view-versus-a-copy\n",
      "  cleaned_df[\"merged_text\"] = cleaned_df[\"merged_text\"].apply(\n"
     ]
    },
    {
     "data": {
      "text/plain": [
       "0        house dem aide we did not even see comey’s let...\n",
       "1        flynn hillary clinton big woman on campus brei...\n",
       "2        why the truth might get you fired why the trut...\n",
       "3        civilians killed in single us airstrike have b...\n",
       "4        iranian woman jailed for fictional unpublished...\n",
       "                               ...                        \n",
       "20795    rapper t i trump a ’poster child for white sup...\n",
       "20796    n f l playoffs schedule matchups and odds the ...\n",
       "20797    macy’s is said to receive takeover approach by...\n",
       "20798    nato russia to hold parallel exercises in balk...\n",
       "20799    what keeps the f alive david swanson is an aut...\n",
       "Name: merged_text, Length: 20203, dtype: object"
      ]
     },
     "metadata": {},
     "output_type": "display_data"
    }
   ],
   "source": [
    "import contractions\n",
    "cleaned_df[\"merged_text\"] = cleaned_df[\"merged_text\"].apply(\n",
    "    lambda x: contractions.fix(x) if isinstance(x, str) else x\n",
    ")\n",
    "display(cleaned_df[\"merged_text\"])"
   ]
  },
  {
   "cell_type": "code",
   "execution_count": 8,
   "metadata": {},
   "outputs": [
    {
     "name": "stderr",
     "output_type": "stream",
     "text": [
      "/tmp/ipykernel_362/449746528.py:1: SettingWithCopyWarning: \n",
      "A value is trying to be set on a copy of a slice from a DataFrame.\n",
      "Try using .loc[row_indexer,col_indexer] = value instead\n",
      "\n",
      "See the caveats in the documentation: https://pandas.pydata.org/pandas-docs/stable/user_guide/indexing.html#returning-a-view-versus-a-copy\n",
      "  cleaned_df['merged_text'] = cleaned_df['merged_text'].replace(r\"’\", \"\", regex=True)\n"
     ]
    },
    {
     "data": {
      "text/plain": [
       "0        house dem aide we did not even see comeys lett...\n",
       "1        flynn hillary clinton big woman on campus brei...\n",
       "2        why the truth might get you fired why the trut...\n",
       "3        civilians killed in single us airstrike have b...\n",
       "4        iranian woman jailed for fictional unpublished...\n",
       "                               ...                        \n",
       "20795    rapper t i trump a poster child for white supr...\n",
       "20796    n f l playoffs schedule matchups and odds the ...\n",
       "20797    macys is said to receive takeover approach by ...\n",
       "20798    nato russia to hold parallel exercises in balk...\n",
       "20799    what keeps the f alive david swanson is an aut...\n",
       "Name: merged_text, Length: 20203, dtype: object"
      ]
     },
     "metadata": {},
     "output_type": "display_data"
    }
   ],
   "source": [
    "cleaned_df['merged_text'] = cleaned_df['merged_text'].replace(r\"’\", \"\", regex=True)\n",
    "display(cleaned_df[\"merged_text\"])\n"
   ]
  },
  {
   "cell_type": "code",
   "execution_count": 40,
   "metadata": {},
   "outputs": [
    {
     "name": "stdout",
     "output_type": "stream",
     "text": [
      "Model 'en_core_web_sm' not found. Downloading...\n",
      "Collecting en-core-web-sm==3.8.0\n",
      "  Downloading https://github.com/explosion/spacy-models/releases/download/en_core_web_sm-3.8.0/en_core_web_sm-3.8.0-py3-none-any.whl (12.8 MB)\n",
      "\u001b[2K     \u001b[90m━━━━━━━━━━━━━━━━━━━━━━━━━━━━━━━━━━━━━━━━\u001b[0m \u001b[32m12.8/12.8 MB\u001b[0m \u001b[31m10.5 MB/s\u001b[0m eta \u001b[36m0:00:00\u001b[0m00:01\u001b[0m00:01\u001b[0m\n",
      "\u001b[?25hInstalling collected packages: en-core-web-sm\n",
      "Successfully installed en-core-web-sm-3.8.0\n",
      "\u001b[38;5;2m✔ Download and installation successful\u001b[0m\n",
      "You can now load the package via spacy.load('en_core_web_sm')\n",
      "\u001b[38;5;3m⚠ Restart to reload dependencies\u001b[0m\n",
      "If you are in a Jupyter or Colab notebook, you may need to restart Python in\n",
      "order to load all the package's dependencies. You can do this by selecting the\n",
      "'Restart kernel' or 'Restart runtime' option.\n",
      "Successfully downloaded and loaded model: en_core_web_sm\n"
     ]
    }
   ],
   "source": [
    "import spacy\n",
    "from spacy.cli import download\n",
    "\n",
    "# Download the SpaCy model if not already installed\n",
    "model_name = \"en_core_web_sm\"\n",
    "\n",
    "try:\n",
    "    spacy_model = spacy.load(model_name)\n",
    "    print(f\"Successfully loaded model: {model_name}\")\n",
    "except OSError:\n",
    "    print(f\"Model '{model_name}' not found. Downloading...\")\n",
    "    download(model_name)\n",
    "    spacy_model = spacy.load(model_name)\n",
    "    print(f\"Successfully downloaded and loaded model: {model_name}\")"
   ]
  },
  {
   "cell_type": "code",
   "execution_count": 10,
   "metadata": {},
   "outputs": [
    {
     "name": "stdout",
     "output_type": "stream",
     "text": [
      "{'here', 'forty', 'yours', '’m', 'it', 'one', 'did', 'in', 'enough', 'as', '‘ve', 'we', 'this', 'while', 'whoever', 'seemed', 'might', 'something', '’d', 'former', 'quite', 'does', 'am', 'those', 'if', 'beyond', 'well', 'amount', 'less', 'just', 'at', 'whereupon', 'they', 'them', 'although', 'sometime', 'behind', 'cannot', 'becoming', 'him', 'bottom', 'indeed', 'next', 'some', 'thence', 'became', 'latter', 'can', 'therefore', 'whether', 'me', 'already', 'all', 'even', 'never', 'such', 'n‘t', 'you', 'because', 'whole', 'your', 'say', 'yourself', 'many', 'that', 'anyway', 'which', 'so', 'now', 'once', 'with', 'somewhere', 'part', 'among', 'using', 'besides', 'none', 'several', 'mostly', 'serious', 'i', 'when', 'meanwhile', '‘re', 'various', 'somehow', 'whenever', 'would', 'of', 'elsewhere', 'thus', 'whereas', 'become', 'else', 'unless', 'latterly', 'during', 'twenty', 'herein', 'third', \"'ve\", 'onto', 'alone', 'same', 'nobody', 'up', 'neither', '‘m', 'first', 'whatever', 'nothing', 'go', 'between', 'more', 'throughout', 'show', 'being', 'why', 'toward', 'whither', 'wherever', 'nowhere', 'after', 'call', '‘ll', 'the', 'ten', 'have', 'off', 'anything', 'via', 'or', 'and', 'please', 'may', 'my', 'moreover', 'are', 'there', 'herself', 'against', 'into', 'ca', 'towards', 'move', 'other', 'ourselves', 'own', 'where', '’s', 'eight', 'used', 'also', 'beside', 'fifty', 'much', 'will', 'itself', \"n't\", 'then', 'who', 'anyhow', 'seem', 'ever', 'nevertheless', 'namely', 'myself', 'sometimes', 'another', 'sixty', 'has', 'doing', 'often', 'from', '’ve', 'upon', 'top', 'everything', 'amongst', 'always', 'others', 'hundred', 'a', 'out', 'down', 'for', 'he', 'except', 'us', 'yet', 'hereby', 'give', 'three', 'about', 'perhaps', 'either', \"'d\", 'however', 'she', 'whose', 'by', 'make', 'do', 'six', 'done', 'each', 'afterwards', 'last', 'twelve', 'empty', 'their', 'therein', 'ours', 'see', 'still', 'thru', 'put', 'its', 'back', 'get', 're', 'only', 'no', 'rather', 'hereupon', 'is', 'our', 'under', 'whom', 'n’t', 'along', 'himself', 'thereby', 'not', 'regarding', 'formerly', 'what', 'together', 'really', \"'m\", 'eleven', 'anyone', 'everyone', 'take', 'be', 'been', 'both', 'through', 'until', 'again', 'almost', '‘s', 'thereafter', 'everywhere', 'his', 'an', 'must', 'without', 'least', 'nor', 'further', 'two', 'due', 'thereupon', 'above', 'becomes', 'fifteen', 'since', 'whence', 'otherwise', 'on', 'keep', 'nine', 'most', 'but', 'over', 'four', 'five', 'yourselves', 'within', 'than', \"'re\", 'few', 'hence', 'whereafter', 'mine', 'though', 'front', 'side', 'could', 'name', 'every', 'themselves', '’re', 'hers', 'noone', 'anywhere', 'wherein', \"'s\", 'seems', 'full', \"'ll\", 'were', 'too', 'beforehand', 'whereby', 'across', 'seeming', 'hereafter', 'any', 'below', 'very', '‘d', 'before', 'someone', 'how', 'these', '’ll', 'made', 'to', 'should', 'around', 'had', 'per', 'her', 'was'}\n"
     ]
    }
   ],
   "source": [
    "stopwords = spacy_model.Defaults.stop_words\n",
    "print(stopwords)"
   ]
  },
  {
   "cell_type": "code",
   "execution_count": 11,
   "metadata": {},
   "outputs": [
    {
     "name": "stderr",
     "output_type": "stream",
     "text": [
      "/tmp/ipykernel_362/1133516218.py:6: SettingWithCopyWarning: \n",
      "A value is trying to be set on a copy of a slice from a DataFrame.\n",
      "Try using .loc[row_indexer,col_indexer] = value instead\n",
      "\n",
      "See the caveats in the documentation: https://pandas.pydata.org/pandas-docs/stable/user_guide/indexing.html#returning-a-view-versus-a-copy\n",
      "  cleaned_df['cleaned_text'] = cleaned_df['merged_text'].apply(remove_stopwords)\n"
     ]
    },
    {
     "data": {
      "text/plain": [
       "0        house dem aide comeys letter jason chaffetz tw...\n",
       "1        flynn hillary clinton big woman campus breitba...\n",
       "2        truth fired truth fired october tension intell...\n",
       "3        civilians killed single airstrike identified v...\n",
       "4        iranian woman jailed fictional unpublished sto...\n",
       "                               ...                        \n",
       "20795    rapper t trump poster child white supremacy ra...\n",
       "20796    n f l playoffs schedule matchups odds new york...\n",
       "20797    macys said receive takeover approach hudsons b...\n",
       "20798    nato russia hold parallel exercises balkans na...\n",
       "20799    keeps f alive david swanson author activist jo...\n",
       "Name: cleaned_text, Length: 20203, dtype: object"
      ]
     },
     "metadata": {},
     "output_type": "display_data"
    }
   ],
   "source": [
    "def remove_stopwords(text):\n",
    "    tokens = text.split()\n",
    "    filtered_tokens = [token for token in tokens if token.lower() not in stopwords]\n",
    "    return ' '.join(filtered_tokens)\n",
    "\n",
    "cleaned_df['cleaned_text'] = cleaned_df['merged_text'].apply(remove_stopwords)\n",
    "display(cleaned_df[\"cleaned_text\"])"
   ]
  },
  {
   "cell_type": "code",
   "execution_count": 12,
   "metadata": {},
   "outputs": [
    {
     "data": {
      "text/plain": [
       "<spacy.pipeline.sentencizer.Sentencizer at 0x7f8c8d289800>"
      ]
     },
     "execution_count": 12,
     "metadata": {},
     "output_type": "execute_result"
    }
   ],
   "source": [
    "nlp = spacy.load('en_core_web_sm', disable=['tagger', 'parser', 'ner'])\n",
    "nlp.add_pipe('sentencizer')"
   ]
  },
  {
   "cell_type": "code",
   "execution_count": 13,
   "metadata": {},
   "outputs": [
    {
     "name": "stdout",
     "output_type": "stream",
     "text": [
      "Number of cores: 32\n"
     ]
    }
   ],
   "source": [
    "import os\n",
    "\n",
    "num_cores = os.cpu_count()\n",
    "print(f\"Number of cores: {num_cores}\")\n"
   ]
  },
  {
   "cell_type": "markdown",
   "metadata": {},
   "source": [
    "#### Das muss nochmal überprüft werden. Es kommt mir so vor, als würde der noch nicht die Wortstämme finden"
   ]
  },
  {
   "cell_type": "code",
   "execution_count": 14,
   "metadata": {},
   "outputs": [],
   "source": [
    "from joblib import Parallel, delayed\n",
    "import os\n",
    "\n",
    "def lemmatize_pipe(doc):\n",
    "    lemma_list = [str(tok.lemma_).lower() for tok in doc\n",
    "                  if tok.is_alpha and tok.text.lower() not in stopwords] \n",
    "    return lemma_list\n",
    "\n",
    "def chunker(iterable, total_length, chunksize):\n",
    "    return (iterable[pos: pos + chunksize] for pos in range(0, total_length, chunksize))\n",
    "\n",
    "def flatten(list_of_lists):\n",
    "    \"Flatten a list of lists to a combined list\"\n",
    "    return [item for sublist in list_of_lists for item in sublist]\n",
    "\n",
    "def process_chunk(texts):\n",
    "    return [\n",
    "        ' '.join(str(tok.lemma_).lower() for tok in doc if tok.is_alpha and tok.text.lower() not in stopwords)\n",
    "        for doc in nlp.pipe(texts, batch_size=20)\n",
    "    ]\n",
    "\n",
    "def preprocess_parallel(texts, chunksize=100):\n",
    "    executor = Parallel(n_jobs=os.cpu_count()-4, backend='multiprocessing', prefer=\"processes\")\n",
    "    do = delayed(process_chunk)\n",
    "    tasks = (do(chunk) for chunk in chunker(texts, len(cleaned_df), chunksize=chunksize))\n",
    "    result = executor(tasks)\n",
    "    return flatten(result)"
   ]
  },
  {
   "cell_type": "code",
   "execution_count": 15,
   "metadata": {},
   "outputs": [
    {
     "name": "stderr",
     "output_type": "stream",
     "text": [
      "/home/nikl/programming/fhdw/knowledge_engineering_ausarbeitung/fakenews_detection/.venv/lib/python3.10/site-packages/spacy/pipeline/lemmatizer.py:211: UserWarning: [W108] The rule-based lemmatizer did not find POS annotation for one or more tokens. Check that your pipeline includes components that assign token.pos, typically 'tagger'+'attribute_ruler' or 'morphologizer'.\n",
      "  warnings.warn(Warnings.W108)\n",
      "/home/nikl/programming/fhdw/knowledge_engineering_ausarbeitung/fakenews_detection/.venv/lib/python3.10/site-packages/spacy/pipeline/lemmatizer.py:211: UserWarning: [W108] The rule-based lemmatizer did not find POS annotation for one or more tokens. Check that your pipeline includes components that assign token.pos, typically 'tagger'+'attribute_ruler' or 'morphologizer'.\n",
      "  warnings.warn(Warnings.W108)\n",
      "/home/nikl/programming/fhdw/knowledge_engineering_ausarbeitung/fakenews_detection/.venv/lib/python3.10/site-packages/spacy/pipeline/lemmatizer.py:211: UserWarning: [W108] The rule-based lemmatizer did not find POS annotation for one or more tokens. Check that your pipeline includes components that assign token.pos, typically 'tagger'+'attribute_ruler' or 'morphologizer'.\n",
      "  warnings.warn(Warnings.W108)\n",
      "/home/nikl/programming/fhdw/knowledge_engineering_ausarbeitung/fakenews_detection/.venv/lib/python3.10/site-packages/spacy/pipeline/lemmatizer.py:211: UserWarning: [W108] The rule-based lemmatizer did not find POS annotation for one or more tokens. Check that your pipeline includes components that assign token.pos, typically 'tagger'+'attribute_ruler' or 'morphologizer'.\n",
      "  warnings.warn(Warnings.W108)\n",
      "/home/nikl/programming/fhdw/knowledge_engineering_ausarbeitung/fakenews_detection/.venv/lib/python3.10/site-packages/spacy/pipeline/lemmatizer.py:211: UserWarning: [W108] The rule-based lemmatizer did not find POS annotation for one or more tokens. Check that your pipeline includes components that assign token.pos, typically 'tagger'+'attribute_ruler' or 'morphologizer'.\n",
      "  warnings.warn(Warnings.W108)\n",
      "/home/nikl/programming/fhdw/knowledge_engineering_ausarbeitung/fakenews_detection/.venv/lib/python3.10/site-packages/spacy/pipeline/lemmatizer.py:211: UserWarning: [W108] The rule-based lemmatizer did not find POS annotation for one or more tokens. Check that your pipeline includes components that assign token.pos, typically 'tagger'+'attribute_ruler' or 'morphologizer'.\n",
      "  warnings.warn(Warnings.W108)\n",
      "/home/nikl/programming/fhdw/knowledge_engineering_ausarbeitung/fakenews_detection/.venv/lib/python3.10/site-packages/spacy/pipeline/lemmatizer.py:211: UserWarning: [W108] The rule-based lemmatizer did not find POS annotation for one or more tokens. Check that your pipeline includes components that assign token.pos, typically 'tagger'+'attribute_ruler' or 'morphologizer'.\n",
      "  warnings.warn(Warnings.W108)\n",
      "/home/nikl/programming/fhdw/knowledge_engineering_ausarbeitung/fakenews_detection/.venv/lib/python3.10/site-packages/spacy/pipeline/lemmatizer.py:211: UserWarning: [W108] The rule-based lemmatizer did not find POS annotation for one or more tokens. Check that your pipeline includes components that assign token.pos, typically 'tagger'+'attribute_ruler' or 'morphologizer'.\n",
      "  warnings.warn(Warnings.W108)\n",
      "/home/nikl/programming/fhdw/knowledge_engineering_ausarbeitung/fakenews_detection/.venv/lib/python3.10/site-packages/spacy/pipeline/lemmatizer.py:211: UserWarning: [W108] The rule-based lemmatizer did not find POS annotation for one or more tokens. Check that your pipeline includes components that assign token.pos, typically 'tagger'+'attribute_ruler' or 'morphologizer'.\n",
      "  warnings.warn(Warnings.W108)\n",
      "/home/nikl/programming/fhdw/knowledge_engineering_ausarbeitung/fakenews_detection/.venv/lib/python3.10/site-packages/spacy/pipeline/lemmatizer.py:211: UserWarning: [W108] The rule-based lemmatizer did not find POS annotation for one or more tokens. Check that your pipeline includes components that assign token.pos, typically 'tagger'+'attribute_ruler' or 'morphologizer'.\n",
      "  warnings.warn(Warnings.W108)\n",
      "/home/nikl/programming/fhdw/knowledge_engineering_ausarbeitung/fakenews_detection/.venv/lib/python3.10/site-packages/spacy/pipeline/lemmatizer.py:211: UserWarning: [W108] The rule-based lemmatizer did not find POS annotation for one or more tokens. Check that your pipeline includes components that assign token.pos, typically 'tagger'+'attribute_ruler' or 'morphologizer'.\n",
      "  warnings.warn(Warnings.W108)\n",
      "/home/nikl/programming/fhdw/knowledge_engineering_ausarbeitung/fakenews_detection/.venv/lib/python3.10/site-packages/spacy/pipeline/lemmatizer.py:211: UserWarning: [W108] The rule-based lemmatizer did not find POS annotation for one or more tokens. Check that your pipeline includes components that assign token.pos, typically 'tagger'+'attribute_ruler' or 'morphologizer'.\n",
      "  warnings.warn(Warnings.W108)\n",
      "/home/nikl/programming/fhdw/knowledge_engineering_ausarbeitung/fakenews_detection/.venv/lib/python3.10/site-packages/spacy/pipeline/lemmatizer.py:211: UserWarning: [W108] The rule-based lemmatizer did not find POS annotation for one or more tokens. Check that your pipeline includes components that assign token.pos, typically 'tagger'+'attribute_ruler' or 'morphologizer'.\n",
      "  warnings.warn(Warnings.W108)\n",
      "/home/nikl/programming/fhdw/knowledge_engineering_ausarbeitung/fakenews_detection/.venv/lib/python3.10/site-packages/spacy/pipeline/lemmatizer.py:211: UserWarning: [W108] The rule-based lemmatizer did not find POS annotation for one or more tokens. Check that your pipeline includes components that assign token.pos, typically 'tagger'+'attribute_ruler' or 'morphologizer'.\n",
      "  warnings.warn(Warnings.W108)\n",
      "/home/nikl/programming/fhdw/knowledge_engineering_ausarbeitung/fakenews_detection/.venv/lib/python3.10/site-packages/spacy/pipeline/lemmatizer.py:211: UserWarning: [W108] The rule-based lemmatizer did not find POS annotation for one or more tokens. Check that your pipeline includes components that assign token.pos, typically 'tagger'+'attribute_ruler' or 'morphologizer'.\n",
      "  warnings.warn(Warnings.W108)\n",
      "/home/nikl/programming/fhdw/knowledge_engineering_ausarbeitung/fakenews_detection/.venv/lib/python3.10/site-packages/spacy/pipeline/lemmatizer.py:211: UserWarning: [W108] The rule-based lemmatizer did not find POS annotation for one or more tokens. Check that your pipeline includes components that assign token.pos, typically 'tagger'+'attribute_ruler' or 'morphologizer'.\n",
      "  warnings.warn(Warnings.W108)\n",
      "/home/nikl/programming/fhdw/knowledge_engineering_ausarbeitung/fakenews_detection/.venv/lib/python3.10/site-packages/spacy/pipeline/lemmatizer.py:211: UserWarning: [W108] The rule-based lemmatizer did not find POS annotation for one or more tokens. Check that your pipeline includes components that assign token.pos, typically 'tagger'+'attribute_ruler' or 'morphologizer'.\n",
      "  warnings.warn(Warnings.W108)\n",
      "/home/nikl/programming/fhdw/knowledge_engineering_ausarbeitung/fakenews_detection/.venv/lib/python3.10/site-packages/spacy/pipeline/lemmatizer.py:211: UserWarning: [W108] The rule-based lemmatizer did not find POS annotation for one or more tokens. Check that your pipeline includes components that assign token.pos, typically 'tagger'+'attribute_ruler' or 'morphologizer'.\n",
      "  warnings.warn(Warnings.W108)\n",
      "/home/nikl/programming/fhdw/knowledge_engineering_ausarbeitung/fakenews_detection/.venv/lib/python3.10/site-packages/spacy/pipeline/lemmatizer.py:211: UserWarning: [W108] The rule-based lemmatizer did not find POS annotation for one or more tokens. Check that your pipeline includes components that assign token.pos, typically 'tagger'+'attribute_ruler' or 'morphologizer'.\n",
      "  warnings.warn(Warnings.W108)\n",
      "/home/nikl/programming/fhdw/knowledge_engineering_ausarbeitung/fakenews_detection/.venv/lib/python3.10/site-packages/spacy/pipeline/lemmatizer.py:211: UserWarning: [W108] The rule-based lemmatizer did not find POS annotation for one or more tokens. Check that your pipeline includes components that assign token.pos, typically 'tagger'+'attribute_ruler' or 'morphologizer'.\n",
      "  warnings.warn(Warnings.W108)\n",
      "/home/nikl/programming/fhdw/knowledge_engineering_ausarbeitung/fakenews_detection/.venv/lib/python3.10/site-packages/spacy/pipeline/lemmatizer.py:211: UserWarning: [W108] The rule-based lemmatizer did not find POS annotation for one or more tokens. Check that your pipeline includes components that assign token.pos, typically 'tagger'+'attribute_ruler' or 'morphologizer'.\n",
      "  warnings.warn(Warnings.W108)\n",
      "/tmp/ipykernel_362/3454132838.py:1: SettingWithCopyWarning: \n",
      "A value is trying to be set on a copy of a slice from a DataFrame.\n",
      "Try using .loc[row_indexer,col_indexer] = value instead\n",
      "\n",
      "See the caveats in the documentation: https://pandas.pydata.org/pandas-docs/stable/user_guide/indexing.html#returning-a-view-versus-a-copy\n",
      "  cleaned_df['preproc_parallel'] = preprocess_parallel(cleaned_df['cleaned_text'], chunksize=1000)\n"
     ]
    }
   ],
   "source": [
    "cleaned_df['preproc_parallel'] = preprocess_parallel(cleaned_df['cleaned_text'], chunksize=1000)"
   ]
  },
  {
   "cell_type": "code",
   "execution_count": 16,
   "metadata": {},
   "outputs": [
    {
     "data": {
      "text/plain": [
       "0        house dem aide comeys letter jason chaffetz tw...\n",
       "1        flynn hillary clinton big woman campus breitba...\n",
       "2        truth fired truth fired october tension intell...\n",
       "3        civilians killed single airstrike identified v...\n",
       "4        iranian woman jailed fictional unpublished sto...\n",
       "                               ...                        \n",
       "20795    rapper t trump poster child white supremacy ra...\n",
       "20796    n f l playoffs schedule matchups odds new york...\n",
       "20797    macys said receive takeover approach hudsons b...\n",
       "20798    nato russia hold parallel exercises balkans na...\n",
       "20799    keeps f alive david swanson author activist jo...\n",
       "Name: preproc_parallel, Length: 20203, dtype: object"
      ]
     },
     "metadata": {},
     "output_type": "display_data"
    }
   ],
   "source": [
    "display(cleaned_df['preproc_parallel'])"
   ]
  },
  {
   "cell_type": "code",
   "execution_count": 17,
   "metadata": {},
   "outputs": [],
   "source": [
    "# from wordcloud import WordCloud, STOPWORDS\n",
    "# import matplotlib.pyplot as plt\n",
    "\n",
    "# # initialize the word cloud\n",
    "# wordcloud = WordCloud( background_color='black', width=800, height=600)\n",
    "# # generate the word cloud by passing the corpus\n",
    "# text_cloud = wordcloud.generate(' '.join(cleaned_df['cleaned_text']))\n",
    "# # plotting the word cloud\n",
    "# plt.figure(figsize=(20,30))\n",
    "# plt.imshow(text_cloud)\n",
    "# plt.axis('off')\n",
    "# plt.show()"
   ]
  },
  {
   "cell_type": "code",
   "execution_count": 18,
   "metadata": {},
   "outputs": [
    {
     "name": "stderr",
     "output_type": "stream",
     "text": [
      "/home/nikl/programming/fhdw/knowledge_engineering_ausarbeitung/fakenews_detection/.venv/lib/python3.10/site-packages/tqdm/auto.py:21: TqdmWarning: IProgress not found. Please update jupyter and ipywidgets. See https://ipywidgets.readthedocs.io/en/stable/user_install.html\n",
      "  from .autonotebook import tqdm as notebook_tqdm\n",
      "2025-01-08 11:25:33.778088: E external/local_xla/xla/stream_executor/cuda/cuda_fft.cc:477] Unable to register cuFFT factory: Attempting to register factory for plugin cuFFT when one has already been registered\n",
      "WARNING: All log messages before absl::InitializeLog() is called are written to STDERR\n",
      "E0000 00:00:1736331933.839791     362 cuda_dnn.cc:8310] Unable to register cuDNN factory: Attempting to register factory for plugin cuDNN when one has already been registered\n",
      "E0000 00:00:1736331933.857548     362 cuda_blas.cc:1418] Unable to register cuBLAS factory: Attempting to register factory for plugin cuBLAS when one has already been registered\n",
      "2025-01-08 11:25:34.010858: I tensorflow/core/platform/cpu_feature_guard.cc:210] This TensorFlow binary is optimized to use available CPU instructions in performance-critical operations.\n",
      "To enable the following instructions: AVX2 FMA, in other operations, rebuild TensorFlow with the appropriate compiler flags.\n"
     ]
    }
   ],
   "source": [
    "import torch\n",
    "from transformers.file_utils import is_tf_available, is_torch_available\n",
    "from transformers import BertTokenizerFast, BertForSequenceClassification\n",
    "from transformers import Trainer, TrainingArguments\n",
    "import numpy as np\n",
    "from sklearn.model_selection import train_test_split\n",
    "\n",
    "import random"
   ]
  },
  {
   "cell_type": "code",
   "execution_count": 19,
   "metadata": {},
   "outputs": [],
   "source": [
    "def set_seed(seed: int):\n",
    "    \"\"\"\n",
    "    Helper function for reproducible behavior to set the seed in ``random``, ``numpy``, ``torch`` and/or ``tf`` (if\n",
    "    installed).\n",
    "\n",
    "    Args:\n",
    "        seed (:obj:`int`): The seed to set.\n",
    "    \"\"\"\n",
    "    random.seed(seed)\n",
    "    np.random.seed(seed)\n",
    "    if is_torch_available():\n",
    "        torch.manual_seed(seed)\n",
    "        torch.cuda.manual_seed_all(seed)\n",
    "        # ^^ safe to call this function even if cuda is not available\n",
    "\n",
    "set_seed(1)"
   ]
  },
  {
   "cell_type": "code",
   "execution_count": 20,
   "metadata": {},
   "outputs": [
    {
     "name": "stdout",
     "output_type": "stream",
     "text": [
      "The longest string is: hard working american vs government parasite hard working american vs government parasite michael snyder april th lifestyle choice produces better results hard working american government parasite actually look cold hard numbers surprise america today deeply penalize hard work greatly reward government dependence live liberal area country know game system entirely possible live comfortable existence working fact americans living government benefits decades people actually plan lives exactly need qualify benefits possible america rapidly turning european style socialist welfare state destroying nation socially financially war poverty began debt absolutely exploded poor people country obviously working wrong deeply believe having compassion going tough times having safety net care single person nation going food sleeping streets america today absolutely ridiculous people climbing aboard safety net point astounding percent americans live home receives form government benefits pays people drag bed work day pay moments let examine lifestyle typical hard working american compares lifestyle government parasite america today median yearly household income half american households half american households break comes month far america today unfortunately far hard working american family need place live unfortunately vast majority decent jobs near big cities expensive live near big cities let assume average family spend month rent mortgage payment government parasite hand host federal state local housing programs advantage recent economic downturn americans turning government help housing costs example federal housing assistance outlays increased whopping percent place live provide power heat average hard working american going probably average month vary greatly depending live government parasite host government programs help example liheap low income home energy assistance program assists low income households paying home heating bills average hard working americans going need phone internet service let assume hard working family example extremely thrifty spends month services government parasite cell phone service problem written previously qualify receive free cell phone free cell phone minutes single month federal government addition areas nation low income families qualify deeply subsidized home internet service order earn money hard working family going need work households parents decided work days need cars let assume family thrifty cars purchased car payments total month hard working family need auto insurance vehicles let assume parents great driving record pay total month car insurance cars need filled gasoline average s household spent gasoline let assume family careful spend gas month government parasite government parasite need work expense potentially eliminated entirely things paid government deeply subsidized instances government parasites actually able afford nice vehicles addition new bill low income gasoline assistance program act introduced congress qualifying households money help pay gasoline low income gasoline assistance program act directs secretary health human services grants states establish emergency assistance programs pay eligible households purchase gasoline hard working american family going need health insurance know expensive health insurance fact health insurance costs risen percent barack obama president let assume hard working family able find amazing deal pay month health insurance family government parasite health insurance needed emergency government parasite free medical care emergency room course medicaid americans medicaid today americans medicaid things lot worse projected obamacare add million americans medicaid rolls food eat right hard working family example faced environment food prices constantly rising paychecks keeping let assume hard working family example clips coupons cuts corners way spends member family food supplies week comes total month entire family government parasite government parasites need eat food stamps come right million americans food stamps barack obama president number americans food stamps increased million food stamps popular rappers making rap videos food stamp cards okay stand average hard working family far spent spend month need find money clothing paying credit card debt paying student loan debt dining entertainment medications pets hobbies life insurance vacations car repairs maintenance child care gifts retirement savings wait actually money left forgotten biggest expenses taxes total federal state property taxes average hard working family going pay month taxes puts average hard working family hole single month government parasite pay taxes earn money taxed starting picture ways life easier constantly taking government instead constantly giving government new jersey governor chris christie recently way bunch people sitting couch waiting government check dumping kinds nightmares economy written frequently s economy simply producing jobs anymore creating major problems needs helping hand point compassionate need growing number americans content simply live government fundamentally wrong job s government care cradle grave s government supposed sure functioning economy operates environment hard working individuals small businesses thrive sadly s government failed miserably regard desperately need s economy fixed hold breath waiting happen economic conditions worse country millions americans going turn government assistance point safety net going break country going look like happens shocking truth unemployment america chart david h preach michael work finance industry tell applications single mother kids cases different fathers getting child support afdc wic housing assistance boyfriend ex husband living making k month people live better working system tell different addition issue large issue people bartering paid cash avoiding taxation completely going pay dearly arrogance indifference ignorance rancher know times burn cash send govt pay bums sitting home darn thing leaches grasp prepared pastor briefly dated woman children saw gaming system subsidized townhouse apartment nicer home utilities based income great dinners food stamps semester college earn bachelor degree asked plans college told going degree stay dole broke imagine free cell phone michael sure dodged bullet pastor michael joel want idea sress create workers look belgium europe country best welfare system birth death government umbrella course come price active workforce pay instance know immigrant receive money government right live decently working bring family arrived family reunion excuses turn right money receive euros month expense workforce way demographic pyramid completely reversed belgian welfare system build era employment s s workforce young generations babyboomers rebuild war babyboomers papyboomers right retirment etc etc system based active workforce young people underqualified meant crash day usa going european version welfare system huge mistake destroying foundation country jo l misterd unfortunately believe passed point return best hope miracle ready inevitable crash pray forced middle mess having literally protect oneself crazy people etc ashley b finally afraid sickens people leeching system easy money food course free know lots people live food stamps ssi welfare etc free want work lazy trash seriously rest family earn living work hard look bums drive nice cars sit home day pump paychecks mean kids wrong people honestly need help donate needy different pure lazy bums benefits lazy work jodi love pump paychecks mean kids true friend retired nurse seen lot young people hospital child good intensions going college getting degree school married pregnant graduate thinking starting good life financially prepared medicaid welfare money job care child sheepdog guarantee government parasites pay come judgement day meaning course pay recoveryless recovery great article usual main reasons american sheeple revolted precisely thanks government hand programs currently exist said americans actually plan entire lifestyles takes continuously qualify unfortunately rest long dumpster mcdonalds slobs dive free food hungry revolutions rewquire hungry people checkmate todays america offers viable expectations achieving actual hope change believe requires wield passport way ticket overseas requires wielding ak option paul fostering dependency illegitimate governments installed media fraud outright election fraud like das example system flawed father worked time life paid taxes s s forth doctors found canser late short time live worked intill day fell walk family supported finaces best going goverment help food stamps gave dollars month w t f buy shopped discount stores people food stamps watched people got nice cars nice clothes bags food mean hurried year old truck wouldent late work small bag crap food guess need lean milk system r p dad mondobeyondo month gasp explanation comes mind government employment income data reality uncle sam flat broke pride tell broke bernadette sick sorry hear ridiculous know god bless poor dad having sorry jodi true known people life little possible government assistance proud believe deserve question happens government runs money pay people dependent long sound good sleep ron think greece wm jodi sleep money runs inevitable borrowed money stop coming therse free loaders clue like actually riot protest burn cities america consider future event time national cleansing millions millions law abiding citizens enjoy nd ammendment worked surely bear arms protect entitlement zombies coming population decrease cleansing entitlement crowd sleep time prepare watch things going interesting nation near future jodi sleep like media ignores stuff treats people like time sleep meant watched zombie movie lot like government checks stop james poor unemployed s able government roles experiencing like reverse industrial revolution industrial revolution time farmers attracted big cities jobs paid high wages compared farm incomes experiencing high unemployment jobs come energy situation reversed unemployed people soon realize someway food feed especially food stamps government assistance starts disappear unemployed people begin relocate rural areas find homes grow produce food sell rest income situation starting appear country going college good investment anymore real need college nowadays medicine engineering law better taking loan farm opening small business going college farm agrarian related jobs good money especially business reversal comes fruition small rural towns come life support families provide reasonably good life tom real need college nowadays medicine engineering law medicine engineering yes law thing country needs lawyer sorry michael problems facing country caused lawyers fear law suits tom sorry lawyers nowwthen good points find work useless bachelors degree accountable paying student loans going bankruptcy like advise instead borrow money buy farm start business hard work benefit family corporation views expendable business expense business failed loans reduced eliminated bankruptcy kids brought told study hard grow find good job parents telling study hard learn run business involves good s wiseman better taking loan farm opening small business going college farm agrarian related jobs good money james right money know people buying leasing small acreage grow crops acres build cottage industries sick tired milk cows government leeches right thing starving beast needs major news networks report trend happening peaceful revolution begun course government react forced labor bernadette wow good ideas agree levels running president need helm sharp mind creative ideas ideas destruction coming washington said sence know pray cinderella man agreed going basics rural living means end future hope living superslum cities tommorrow ky survivor step closer total control welfare state god help josh highly doubt jesus use term parasite describe fellow human das right leaches richard vipers mathew jesus politically correct sweet christians laodocian america colin better term david h true rear end work living able volunteer time worthy help justify free lunch relative draws ssdi social security disability volunteers says help justify disability payments recieves need people world like sluggardly leaches man work let eat proverbs steve blog refers feeding nanny state millions government valueless workers making k year perks rosy pension start draw turn double triple dip parasitic free loader dole altogether parasites half americas population stage empires existence saying let collapse going hellish longer government props dog poop fiat money chaotic michael steve yes right written inflated compensation government workers past michael klean systems broken right anymore stop thinking right way going sleep interesting earning living spunkybunks lazy obese sister parasites ashamed knows worthless husband bother showing anymore knows think children high school dropouts far great welfare system amrica rewards losers sit breed idiots paul nice family family values gone days tax payer pay family complain prevent nieces nephews dropping high school bernadette sister lucky supportive family help hard times bet supportive life success good job mom dad d mattyboy start hide income extra cash things legal hidden gone long time eu taxes close want pay fed number reasons wish revolt million decided pay taxes guess need million like making cash claim support flat tax abolition irs trust gov need money kathy smith totally agree matty wish way pay taxes pay check buy gasoline day attention paul m americans dependent government jumps welfare state consumes federal budget mark landlord longer manage apartment complexes seen michael writes past sad country gone proud nation longer population strong heart weak useless country people think owes living tappedops umpteenth time mad mad labotomized air food water programmed mind control yea laugh figure chemical weapons totally removed ability criticly think game toast dancing stars rodster gary picture das gladly picture sistrunkqueen agree article think american paid taxes able type government assistance tax payer unemployed need assistance betcha apply dad vietnam vet qualify food stamps po mom wants aid help ends meet explored sister wic need government assistance sign oh way got free phone great local calling mckinley morganfield tax payer unemployed error compute error review data resubmit cinderella man dude taxes unemployment checks mckinley morganfield yes fica end government playing charade simply giving way ss medicare supposed funded fica receipts red dc spends borrowed money annual interest payments federal debt soon think continue years years years rancher excuse barf rodster big difference luck needs help job problem said otoh wants live gubmint stay home play duty mw watch tv sir gary s brother luck times point months worth rent know took minimum wahe jobs pay bills refused ask gubmint assistance figured point return mal r welfarequeen tatiana covington let starve death rid unfit weaklings klean yeah food powerful parasitic quietly night turn violent hunting skills t believe comment got moderator tells certain thing moderator tatiana covington world free reds ryan appears author writers comments seriously sniffing article waste time read merely standard diatribe hard working family filthy masses guys drinking wall street gop dlc kool aide tom lowe baloney vast sea professional freeloaders dragging world tatiana covington v nzspsovnvii feature related hognutz yes drags bed everymorning work parasites feed little longer feeling end soon working millions welfare depending gone economy simply producing jobs anymore creating major problems problem companies leaving country started obama took office implemented harsh environmental rules environment issue way start implementing solar power wind power etc thirty yrs ago technology ww germany making bio fuel potatoes vegtables methanol gas cow shit uncle told depression days create battery banks hook generator windmill charge batteries power lites house nite wrote jesse venturas days gov mn called greyhound chicago pipeline people chicago come use family relatives adresses claim residents mn welfare check chicago individual said time going retire mn becasuse easy welfare yrs old time democrat party pounding welfare drum want add people welfare rolls state hell going pay state having money problems need anymore told confused let relate fact sharonj reason george bush sign kyoto treaty president irreversable damage s economy obama way look happened mix ptbs desire create global economy somebody pay price obvious democrat republican care old phart tell point gun way people country stupid lazy need fat asses quit stuffing faces potato chips education job truth hurts tired seeing hard earned money going deadbeats live nice easy life ounce respect people making happen gay veteran problem companies leaving country started obama took office pure bs know obama fan outsourcing start mckinley morganfield protect fools folly actions fills world fools want subsidize want punish compassion reward fools bad choices subsidize bad choices generation generation punish frugality hard work regulations taxes low interest rates democracy dangerous creates class citizens benefit frugality hard work robbing peter pay paul works run peters rob compassion truly needy fault leeches starved blood sucking way mondobeyondo system geared rewarding parasites truly honestly hard luck situation need helping hand speak parasites leeches decide government dependence career choice ladies ahem use term loosely accustomed pumping baby couple years better benefits food stamps aid dependent children wic child support hope sugar daddy knock coming way months bloated gluteus maximus okay obese donkey couch life grand government assistance programs created leeches suck lifeblood hard working people richard government assistance programs created masses dependent gubmit roosevelt said happens gubmit accident gubmit undrestands human nature dependent humanity freebies cooperate gubmit attack honest hard working people produce things real tax payers producers goods services want freebies stopped gubmit leaches parasite masses defend gubmit giveaways death gubmit knows dinner simple everybody wants eat corn wants plow fields tom lowe lot mind plowing fields fact actually enjoy mondobeyondo hope federal income tax money yes pay year helping lazy pathetic sloths know know exactly going starting angry like angry thanks incredible hulk intentionally taking advantage system going play johnny cashs ring fire funeral sayin infuriating aspect welfare system unrealistic unsustainable welfare state slowly surely strangles economy higher taxes regulations overbearing laws destroy ability businesses survive inevitably unsustainable benefits end like ending greece parasites freebies stop starve like domesticated pets turn violent way night mare similar post apocalyptic zombie movie pitiful life trying avoid eaten alive parasites currently living government tit tom lowe believe reason built camp fema great article michael certainly articulated crisis slowly strangling life country read article feel able look future nightmare ends prepare share article clearly frames fight countries ultimate survival michael thank sharing article article little harsh truth society use tough love michael need tough love real parasites corporate welfare michael think find article posted michael tremendous slap face works struggles day living provide famalies pat let add europe garbage man makes income physician fired incompetence income taxes places high deductions government direct competition business little fishing hunting pollution rife university register live change approved courts want use approved list people live small flats bath tubs spain kitchen denmark shower tub protests approved government welcome future sectors s education system schoolteachers fired incompetence suspect teachers teach leaders tomorrow future teachers teach future biologists musicians artists plumbers scientists web page designers doctors veterinarians job teachers highly underpaid athletic coaches deans compensated course maybe important try having garbage workers strike month soon realize essential view abroad like stay albania speak scandinavian countries sweden finland denmark norway vast majority income tax bracket approve superior education system overall efficient government welfare system yes right government chooses e g waste management ecologically recyclable max instead leaving likes barone sanitation remember sopranos think better matter rural europe fishing hunting rural course maybe fishing e g thames rhine fishing downstream hudson river catch surprise lot university burdening student loans rest lives free elite institutions meaning elite rich yes yes couple immigrants cologne germany years ago wanted newborn son osama bin laden html sorry right wrongfully turned brutal fascist jackbooted civil servants horrible afford europe heard rumors germany france flats water closet seen poor old european oh yes horrible luckily rally people time like let tasered thugs police gary stop speaking truth ruining lot low information foolish republican conservatives world view correct like said reality known liberal bias marcus eastern europe years ago scandinavia atm welfare usa pay tax healthcare live nice house new car eat good healthy food services private ones financed taxes considered rich middle class opinion middle class actually growing way country oil europe maybe romania idiot gwyn sick hearing wonderful living government hand start working age health went manual work life stand min need sit live month food stamps winter winter heat house month cold winter cooling summer end help people winter needs car afford repair broke mean friend pay gas money cab shopping bus doctors medicaid wonderfulness grateful clinic wait month weeks appointment emergency ward pills change time state decide better deal company good living towers paying income lucky family left ownership house property tax pay house insurence repairs free phone internet pay taxes pay money doctor pills lot agree living like means entertainment bake bread clean house chair clothes second hand goodwill lots visit people days sick idea poor pay taxes bill kind tax useing service pay fun buy lots food live far rest comes monthly check lovely dream month sitting sofa till idea like live pain live problem come living look forward fear watch state federal government talks things need cut people live fancy house money want vote man president bank account places like island country special banking laws mistake know cuts coming going easy goodnight million dollar congress men women golden rewards know parties friends know games play working people money got rip instead yell heads offend worry denny article betrays horse families liabilities month paying taxes pay near relative wage earner pays suspicious article mention corporate welfare usually receives twice social welfare recipients let forget lobbyists lockeed martin contract glorified corporate welfare blackmailing corporations pull municipalities promise build factory environs exempted paying local taxes nah article republican democrat crap blaming hit hardest consequences war wealthy laid lives infrastructure jobs waste surprised find site tom lowe article clearly directed professional freeloaders unemployed people jeremy disagree michaels predictions assertions articles nation come brink times writes elite welfare wealth hoarding time fair leonard dear michael away single benefit people end creating plenty criminals streets end jail getting free food free air conditioning libraries internet free health care years come mentioned article time ago somebody checked jail kind fake holdup order health care prison think end paying banksters fat cats corporations good luck remember price job social program somebody hire jobs shipped overseas millions work people happy lay offs end paying way people going successful like bill gates steve jobs everybody good luck remember play lottery time anybody win let solution michael let bring jobs outsourced decades going happen course michael leonard yes write free trade trade deficit people understand happening michael vyselegendaire economic conditions worse country millions americans going turn government assistance point safety net going break country going look like happens egypt chaos major metropolitan areas nation maybe drug entertainment infused simply throw hands pull pants big daddy government oh forget mention people taking subsidized anti psyochotic medication people suddenly come expensive drugs let hope violent outbursts reach level known mass murders associated coming ssris like sgt bales afghanistan curt yes insurance costs gone people unemployed example industry greed boundless let forget couple percent income makers paid share mean clean water education health planet certain parties trying sink system coming alternative world greedy want privatization natural resourses industry ruining country greed legacy stan race wars riots coming city near black panther having doubts getting suited booted armed race war ended let tell thing happen honkies crackers pigs pink people mother turtle people long overdue happen honkies crackers pig pink people mother turtle people end dead reason whiteness nexus amazing number self righteous pompous individuals welfare state like dependency system evolved placate masses economy declined people adapted game system expect happen millions jobs tens thousands factories closed shored china india etc millions unemployed going payments food stamps etc ways keeping idle masses passive point end bankrupt austerity measures introduced payments withdrawn food stamps unemployment benefits medical support etc wish reap consequences paul common shareholder contribute success company shareholder true parasite draws money company return paul dependents yes shareholders managers chairmen bureaucrats politicians paul hong kong citizen right medical treatment public hospitals entrance fee usd paid vat hong kong hong kong people pay income tax max income tax gross salary minimum hong kong government debts year money left paid hong kong citizen usd addition gave tax payer tax rebate usd wrong de malfosse war poverty began debt exploded certain accuracy writing war poverty ran alongside horse imperial race viet nam war viet nam war direct source americans monetary difficulties today argue debt explosion maintenance uncle sams empire imperium tremendous amounts american taxes continue flow outward neighbor welfare suggest welfare bum easy obvious target deliberately promoted uncle sam divert attention empire year history perpetual conflict war interfernece affairs nations example country xxx offend received average millions day years american taxpayers qualify govt parasite neighbor welfare damaging entire company lockheed martin govt teat truman president tom lowe excellent points clearly directly related topic actually ground working night day month years college long ago completely able bodied guy bothered school month smoke dope gets neoisolationist work wife worked long time unemployment percent collecting government benefits want unemployment intends vote current administration come november lots percent wants continue scamming system group like wife think percent percentage wrong course recall hearing obama wanted percent population getting kind government assistance think agree percent alot michael america today deeply penalize hard work greatly reward government dependence thing france longtime disabled government benefits support job business taxes benefits disability stupid world chris great article michael usual going overlooking critical component problem breakdown family structure know fully aware thought use mention cold day hell family accept sort assistance gov jazzage missing important areas government dependance article liberal blue states pay federal taxes excess goes conservative red states whine government exist excess government contracts military bases etc states old confederacy dollar pay greatest welfare country money taken taxing middle class subsidize rich big business example private prison industry privatize prisons private companies run prisons lobbyists bribe lawmakers laws making things illegal prisoners revenue people kids deductions pay taxes point essentially zero taxes kids mothers welfare yes republicans away paying little taxes guess makes difference fewer kids generally liberal people pay freight property taxes fund public schools hypocrisy conservative morons astounding let rid public funding schools end corporate welfare guises set losers southern states watch size federal budget plummet gary correct michael acknowledge speak truth let facts conservative leanings welfare churches pastors houses err mansions tax free want subsidize rich paster megachurch poor michael goiong real facts welfare pointed church biggest welfare scam jazzage right forgot churches pay taxes butt way political conversation use power church promote idiotic ideas welfare exists prevent rioting streets welfare reason government exists gary churches pastors homes tax payers subsidize mega church mansions tax free barn cat new gold rush trying qualify ssi considered legally disabled tom lowe sprained ankle walking job interview qualify ssi dave hello reading blog time good read non mass media propaganda subscribe notion usa rest world descend anarchy overnight continue gradual decline years far merely policymakers blame system operates perpetal growth fuelled cheap energy energy rises monetary cost energy input costs economic contraction inevitable peak oil definitely shale tar sands proves getting desperate time people need return rural agrarian lifestyle pre indutrial age order survive sun stil rise set think anarchy come live slow decay order happens die helping fellow man content life lucky defending stash dec rubbish fyi calendar gregorian ends years funnily richard powerz hold rip cord gargantuan unpayable debt usa europe satisfied growing level debt pull rip cord trillions derivatives end timeline commence new world oder mean order believe startled frightened suddeness severity collapse jack leper united states government parasite hard working people gary journalist chris mooney discusses new book republican brain science reject science reality new book republican brain science reject science reality science journalist chris mooney surveys growing body data explains significance think authors mistake assuming republicans brain begin chuck government biggest parasite michael government feeds hard working americans lifeblood chris hmm popular thought feel government hand dime reason church suppose suppose help widows disabled poor etc anti christian society given better stated expect government care pushed church church taking care matter kinds rules govt tries push note burns called atheists anti christians etc try justify jesus wanted socialism government care people handouts completely different bible read jesus knew clear people taking care family hardship hit church specifically church members congregation suppose help sadly church goers self absorbed bible deficent willing help church members think government ugh catch sorry ramble great article hit nerve eric ferguson article example america going massive debt gone nation makers nation takers people content sit receive money govt live people like work support lazy people nowwthen country grew said remember days s s high school diploma find job living wage smokestacks office buildings country needed workers generation hate things devolved semi socialist society michael painted corporate lobbyists convinced countrys leaders buy belief tossing s workers world labor pool good tens millions jobs lost result add technological unemployment caused robotic computerized replacements human labor wonder unemployment underemployment remain record levels person exhausted weeks unemployment losing job held years likely reason government caused job away government pay took guess refer moral hazard like think americans prefer work job paid decent wage stay dole sadly happen long good american jobs eliminated lopsided free trade policies productivity gains resulting automation human labor jeremy think clearly good points winston smith agree assesment lack jobs good paying ones problem result statements encouraged trained people nation bosses employees wage slaves dependant guilds destroyed largely reformation ushered dog eat dog selfish economy highly individualistic said guilds provide training placement apprenticeships benefits health insurance etc s s rcc laity land associations usa britain lackluster support clergy protestants depression ww ii died vine purpose train men famr buy rent farm provide ditchling survived sorts men gotten training buy use rent continually unemployed stuck filthy cities rely lot ready cash equity suck buy franchise lot loan lot buy buisness plus training open bar grill great love know thing payroll taxes holding order products etc pete yes true accurate information months unemployed jobs offered th salary costs twice choices work suck like good sheople best drive spear beasts heart try kill mercy killing actually boils buckle stiff upper lip shoulder wheel nose grindstone going idea supporting crooked decietful errant policies loosing game going merciful helping ailing beast economy death right wounded dangerous animal wrong possible nurse health board bernanke politicoes decided injecting growth hormones diet hour energy drinks practicing good medicine evil wanting suffering animal sleep tom lowe happened years ago swore kill beast know going win tom lowe way got zip unemployment corporate pigs zip got right jobs low pay walmart crap jeremy anger july accountable god actions requires work best apostle paul work eat misery website help visit site daily realized providing key facts knowledgable future days difficult trust find peace valley encouraging people actually good jobs service blessing bar exam july look adventure god gemtap track use pay whent real job debtors prison cinderella man good topic michael know dad gets infuriated tax time work unemployment expired worked underground economy paid table work breifly snap assistance way feed working reading articles like ask work tax time pisses told welfare mama got eic gets section housing assistance food stamps basically produce illegetimate children apply aid presto set life working fools millions welfare depend michael needs help point key pick help exactly blame going temporary troubles gotten comfortable living system year year try trouble michael davidmpark exactly sides lately things work worked government contractor wife severely disabled years ago left time merchandising job big box closer young kids safety net live big liheaps funding months worth utilities year paperwork cost process mail hours filling photocopying medicaid limited kids disabled covered months fill page review send related documents prove claim time missing document info lapses days social security disability trial half finally got disability years documents law firm month housing assistance program waiting list years goes rent kids online charter school actually read math school district abysmal failure qualify discounted free internet cut service months apply let kids fall way qualify cell phone discount free working time need quit wife looses medical coverage fun system spend time waiting check spend lot time trying build afford create utilities grow food looking better job work home said severely disabled needs got work till lucky seizure stay home day clean house help kids school fill paperwork cook blessed stuff workshop bed paradise near hell know profiting programs know experiences working federal government sure bureaucrats running programs living sweet life guys year salary spend time meetings tom lowe case illustrates need help difficulty getting system clogged rank freeloaders know numerous fully able bodied mentally competent people ssi large veteran mental disability payments actually alcoholics pill people knew guy gets plus ss concocted mental disability ptsd military helicopter accident come liar actor combat came th month whining broke lived van past years freeloaded phony ptsd disability spent days living tune day shows broke whining th self sufficient people way share dumpster meals roof head sent camp fema speak work little hour years think sort automatic minimum wage better realize thing intend survive davidmpark thanks tom mondobeyondo needs government efficiency best local department motor vehicles office vehicle registered counters available employees counters assisting customers people sitting staring screens chasing kids bad sign press little green button machine near entrance ticket reads number loudspeakers announce serving number come post office better gary employees dmv right wing gov like soon replaced walker cut cut cut stop voting repube diane c people like need help able problem entire system government broke advantage need think government big bloated people check things efficient order government certainly wish family best davidmpark davidmpark okay need clarify things wife actual disability severe traumatic brain injury caused epilepsy things coma year relearn cost life real easy fake ct scans numerous tests second know game system requested info tell honesty pay guys point hate programs ebt card public embarrassing thing stares cashier gives damning hide card best swiping quickly stash eyesore away receptionist docs office asks insurance whisper answer gov people want right good pass law voids zoning laws families legitimately disabled member capable rearing animals producing things limited guys want castrating programs serve food storage pretty basic mentioned programs kids force wife assisted living kind partial divorce society wanted stuck phillip sherwood people personally know work system getting rich treading water double family members work low wage jobs work system eat children able access health care caught drug abuse alcoholism hardly able maintain work hard low wage jobs work agree level throwing money people worthless cutting bad children ones suffer remember church grew worked monetary policy individual assistance genuine caring pastor went great lengths assist member mentally ill mother pastor church got thing right thing people knew man congregation cared youth pastor said brothers keeper thought referring specific scripture fumbled answer bible clear cover cover answer tom lowe missed point article states freeloaders burdening intentioned system designed truly needy says implies needy people help says people needy robbing system stan agree government sustenance programs burdened burdening inevitable government defines success increase budget getting people reliant grow program free loaders definition happen politicians openly feeding people guilt putting supporting ridiculous programs equate charitable giving money private support programs supporting government taking money creating program thing government inefficient gary brothers keeper passage michaels christians site stan gubamint programs supposed rich intended captive low level sustenance politicians voting play system voting block ensure continued candidacy goes program home mortgage interest deduction hope lifetime learning tax credit student loans child dependent care tax credit earned income tax credit food stamps miss provide people need hooked like crack addict tell friend break away government handouts find way success inside single god given need unleash stan believe point takers givers society politicians open vote free stuff safety net politicians leveraged voting blocks destroyed country political greed power money enticed weak weaker accepting bribes immoral illegal destroy drive success self reliance determination americans michelle idea hit home god bless jox unfair disappointing article talk pitiful state things america suddenly justification equates european style socialist welfare destroys nation socially financially worse end picture content article like socialism ok let discuss arguments method picking like associate socialism unfair appropriate brilliant articles exactly far left blames problem world america capitalism way let inform socially economically advanced prosperous countries world european socialists social democrats word exists english going hard time finding arguments ethics politics countries model everybody tom lowe europe knows europe biggest freeloaders entire world biggest tom lowe fact europe subcontinent wholly dedicated freeloading rest world centuries gary michael idological right wing warrior facts hears fox longer think self crap probably transcribed rush pill head bimbo downwithlibs screws loose sad pity knightowl model like emulate years think support govts taking group provide role govt care subject barn cat lot government jobs necessary jobs lot people incredibly arrogant think god work government saw worked census superiors deal people worked department commerce people compared god bobby line applies bernadette time read like makes blood boil mindset making fight tooth nail ssi worked life paying dissabled list illnesses longer left arm ssi denied try find way drive miles away court hearing people think easy gov help need trying ssi benefits finally sick work worked years illnesses got bad manage bernadette way able work everyday like miss working ridiculous think people created create work sit sick dollars month free talk socialism hitlers mind set let strong survive weak wall believe believers public assistance church supposed care sick people like gov church supposed robbing old ladies ss supposed caring christians certainly complaining services assist sick old people oh come wash jesus gets come quickly lord jesus cinderella man bernadette woundnt mad getting ssi perfectly healthy young teenagers depression bi polar sit goof day rest foot bill way reason people depressed govt tyrranical materialistic tom lowe exactly phony patients ptsd phantoms pain pill puppies gary christians hypoctrites max need read site proof stan left richard wrong christians hypocrites christians truely christian news flash buster god heart person knows true hypocrite quit wasting energy trying pick true christian useless examine life relationship god best thing ozmo thank post live cents stan like government create programs big promises near impossible attain goal posts mid game extending qualifying years farther farther steal bankrupt pander voting block retirees near retirees garner votes ones bastardized place problem believing sobs time speak wary politician coming gubamint program takes care live kept money years going instead giving ripoff artists beef worked life believed promises politicians issue bastard redundant politicians false promises leverage votes promising free stuff straight hell mondobeyondo remember scene movie titanic jack asks rose hold hand ship sinks jump jump wrong scene scene ship taking final plunge undertow sucked near ship water usa titanic people abusing system depend s government survival dragged underwater underwater mortgages wink wink suck chris pyramid wealth describe population parasites live parasitic existence mean people like bankers ceos produce rich scamming basically living parasitic existence actually work middle pyramid middle large population underclass genuine hardworking people game system middle supports lower upper parts pyramid host support certain energy going parasite living energy lost parasites host killed stage getting close corruption fraud greed set example follow faced corruption indolence middle lose heart supporting unjust system citizens paramedic years continually things worsening people ems loved sick free taxi service sadly realize care hauled actually need service paying foir giving people hand getting tired pay going buy cell phone minutes like built house payday payday land family putting feeder pigs calf broke sod acres ground garden wind power breeze underground springs site means let collapse parasites forced work michael good article michael use free taxi service sad michael citizens state wv individual activate ems reason state hospital want choose haul use non emergency ambulances want spend money gas bus dr visits non urgent medicals love state wish states reform system save countless money lives optimist oh yay built house paycheck paycheck millions paycheck ceo parasites parasites churning grabbing money jobs outsourcing golden parachutes jobs gone coming grossly smug superior lost house prepping homestead homesteading things years good source income business failed years ago lost think single second invulnerable incapable losing paycheck lose maybe deeper understanding reality parasites forced work hateful think want jobs fool hateful fool read karols comment real parasites dc corporate boardrooms citizens smug fool means harsh austerity home eating ramen bologna sandwiches working til morning house getting work claim tax credit borrow banksters scratching odd jobs days smug guess shoe fits work system live lap luxury gone provide roof food family yes prepared coming hope feel looses job comment meant condescending timeless today judge man traveled footsteps libertyin interest repeating said like add believe government benefits safety nets thing government tax read steal producers assist read redistribute poor receiving benefits entitlement sic connected elite welfare government setting safety nets exacerbates problem existed prices skyrocket providers know increase backed faith credit tax payer hurts people program intended help place assistance private local charity way truly temporary helping hand hits hard times organization church monitor fraud progressives claim work read having step alternating piles child prostitutes dying old people street tried way sweatshop job standard living increasing like history seen people allowed fruits labor income household support people children better educated new cars appliances etc progressive model standard living decreasing drastically contribute household income need hop safety net reached unprecedented levels lastly producers lucky retain earnings try defer later consumption hit hidden tax inflation destroys wealth actually decreases purchasing power possible criminal malevolent actions federal reserve karol hi michael thank writing honest informative articles longer watch news read local papers rubbish website fascinating recommended site friends family body likes lazy cheat games system living fed parasitical wall street fat cats politicians criminals d c having gaming system decades expense rich crooks stolen billions american people far food stamp family life time bofa paid federal tax got billion dollar rebate read paid federal tax companies billions dollars millions dollars bonuses year pay federal state tax tax payer robbed local level police fire stations affected schools bridges roads repaired parasites send children best schools vacation world multiple homes tennis courts pools multiple cars jets eat best food probably cooked house chef housekeepers nannies best health care money buy disney multi billionaire company got welfare fireworks display multi millionaire sam donaldson got welfare mohair schools suck minimum wage adjusted inflation hour people getting screwed time half time vacation time pensions health care etc work lucky hours week wage theft best way steal people ignorant realize robbed worked private club boston docked paycheck weeks work poor single mother richest people felt need steal weeks wages wow afford work free quit begrudge obese lazy unmotivated scamming system especially benz jag driveway lawn service patch grass maid clean sub par high fructose hydrogenated sodium laced junk food dinners fuel assistance warm eating food stamp dinner watching judge judy good michael karol yes written articles corruption banksters elite definitely michael mr g largely right karol people far better dishonest bothers today real earned privilege lots lots unearned unfair big cash going fat cats ruining country time getting money mean good job cash think try good luck jimmy citizens find vote money e democratic party occured system heading straight hell destined failure khristu honestly fix problems like need free energy possible held corporations owned bankers government control thing added list divide people docile long movie hr stuff way opened mind describes food chain banks corporations governments people v lev affcz s grandpa parasites speak live miniscule turds dispersed leeches thrive oxygen burn rich vs poor black vs white gov vs god someday people balls reverse genocide played corey lewis wow great article loved ex wife friggin parasites years best raise kids lifestyle dead rotting body people worked hard refuse work hard deserve residency country boat ship pilot boat rick know parasite particular lived older sister years finally divorced leach government subsistence type people thing common employable stan rest government jobs dmv special low income gasoline assistance program act introduced fortunately gone mention let idea revive mike s person loses job thing apply unemployment runs savings run food runs kids honestly think government let live dehydrated food shelf basement foodstamps medicaid kids proof income regardless house paid money time pay bills year time kids e r opens crap worms insurence stitches bike accident kids medicaid foodstamps try positive government waste use foodstamps restock shelves pleased answer questions situation negative ones site daily comment michael good points michael tom lowe person talking talking lots fully able bodied people scam gummint benefits work underground economy year year tex yeah hypocrites talking person person real need yes abusers experience people work money walking work broken glass jump hoops bureaucracy demands meager pittance fact economy toilet sheeple going let romney flush jobs cash economy hour jobs pay rent feed mans kids alternative people work government system eat turn crime justice streets guns country turn tide starts think time quit rhetoric real going end badly mondobeyondo forgot kids aspect situation children whoa talk growing fast children dire situations need ask budget erheault wander road total automation industrys need middle lower semi skilled labor dwindle unemployed unable work multiply face revolt nation past present undergoing work unknown happen matter president congress nation country history survived devaluing monies massive unemployment heading enjot ride historic bryan simple people nation gotten far god reaping sowing matter time lord jesus christ returns mark beast coming seeing s mare debt european countries look happening matter time lord knows wheter believe amazing prophecy fullfilled right eyes fix huge world financial mess read revelations chapter turn hearts god live age grace monk cut spending donald wilson bums live like vultures living system crash burn day later tom lowe landlord lower middle class neighborhood lb lb lack food time cook professional freeloaders far eye tell stories freeloaders blood boil right hope gummint finally stops issuing absurd freeloader checks benefits sends professional freeloaders camp fema right bankster criminals right belong dead butts start mean maybe cinderella man goodness man need bulk protien powders high fructose corn syrup immedietly skinny offense tom lowe scary surrounded sea human sinkers means half need time money eat especially coffee cigs feeding spoilt cats decide indulge like hours reading blog comments ok ya caught eva yup good time jobs growth prosperity rid man oval office replace takes creating business friendly environment seriously returning congress baseline budgeting budget reform act adds annually federal budget regardless necessity hardly need add regardless federal revenue sharonsj articles like piss right wingers like blame anybody struggling survive attack corporate welfare exxonmobil earned billion year past years paid tax got tax refund corporations away murder rob blind execs prison let guy steal food grocer afford buy meat lands jail know remain amazed stupidity american public swallow republican talking points folks learn look facts computers instead yes men help repubs steal left country michael written bit corporations pay taxes corporate welfare takes place michael gary articles poor corporate welfare come michael bs michael gary know hit goldman sachs far harder hit poor michael gary said corporate welfare goldman sucks bash poor way corporate welfare far bigger cost sharonsj economist richard wolff pointed years corporations government rigged system pay cents taxes tax paid average citizen said people understood screwed second american revolution michael yes discussed corporate taxation bit article posted michael winston smith true upset conservatives benefit lot big govt big biz answer lower taxes spending govt way el pollo de oro gcs gs guns gold getaway plan gerald celente michael t snyder write economic conditions worse country millions americans going turn government assistance point safety net going break yes break god help banana republic america usa things going nasty world nightmare said going gets tough desperate desperate things rob steal sell drugs mug carjack kidnap things dangerous live caracas ciudad juarez port moresby guatemala city kingston long list world cities high rates violent crime collect dreaded desperate people desperate things tax dpddtt wealthy minority end paying surrounded dirt poor majority think people realize evil abomination country alex jones americas place look decline going country anybody believe dollar going reserve currency gerald celente world countries ultra dangerous visited morocco lot poverty lot violent crime lot touts trying sell carpet need definitely bra moving direction violent dangerous world countries kidnappings way life cops cahoots thugs think baltimore detroit philadelphia st louis bad wait worst come rural places necessarily going safe know hits fan small towns mexico extremely dangerous course smart preppers understand things ones listening alex jones gerald celente paul craig roberts gary johnson ron paul realize guys alarmists telling like truth pretty gun recommend keeping safe secure place knowing use gun come handy dpddtt collectors come knockin banana republic america william real government parasites actually federal workers gs wg federal employees grossly overpaid little work impossible fire slackers tenure brother law retired gs job wash dc took newspapers magazines work read civil service wage grade federal workers sit little reading benefits manual hard fact tx life tvs offices paid taxpayer watch hours day wants confrontation ignore let watch tv good portion day work jobs required gs wg hours prohibited wants confrontation look way come listing time weekly time cards required end year december use lose accumulated time continue grow worse willing tax rate month crazier think wide margin add love find rent los angeles try minimum living hell bed folds wall seriously considering building cabin nice land middle buying year supply ramen noodles hear feed called thing year mr g known plenty parasites work system amazingly worked charity related job city found people coming latin american countries welfare forms filled got plane come rotten rotten try help know welfare scam willing help need deserve tend help deserve example poor american kids read special help foreign nationals going parents educated work fancy professional jobs special english tutors tax payers dime going wake help turn helping coming reason support republicans anymore support democrats mean spirited people daytoday good article michael time away doom gloom impossible escape entirely agree article know people st hand welfare family welfare govt assistance adult lives worked walmart time guys worked construction worker welfare yrs cut receiving month welfare compared month working walmart understand people choose leach system forever literally pays dependent independent stay strong good work david gurney new gop slogan believe hope dope mad max truth work hard anymore mad people discovered sucker wants work hard work modern extension slavery ancient times people want rich want free free want jaded fool wants work hard jaded fool criticize want kill making elses dream come true spend time family things love think care working butts care working butts stupid persist nonsense guess gotten wish behave like slaves complain treated wake read common sense fight symptom free john rambo nevermind welfare people women women bankrupted america sucked system dry special womens rights privledges drove away big corporations afraid frivilous lawsuits women american women sue happy sue company employer stupidest reasons blame corporations outsourcing countries radical feminist like american women main ones destroyed america feminism destroyed america going start blaming real culprits michael going grow balls start speaking truth instead watering like michael michael john rambo yes rarely women feminists main economic collapse america american women destroyed tens millions mens lives financially divorce courts financially destroying tens millions mens lives help economy going directly expose women primary culprits collapse tex joh rambo sure rick santorum slumming gary paid system people personally know people system ssi disabled rest lied ssi lie saying depressed hurts etc etc etc read coments funny people diserve ssi people lieing money help strangers money paid hell retire paid man dam job quit faking work period know taking yr stop bums know forget tell people pay money sorry comes support stranger help family includes food stamps money taken taxs etc spend taxed care raise child job flippin handburgers sorry taken comas ran sentences point gay veteran war poverty began debt absolutely exploded poor people country facts federal debt started exploding reagan michael exploding long time parties blame michael tom singa yes blame obama debt increasing slightly needed control obama doubled debt period way argue evie america rapidly turning european style socialist welfare state evidence says wish european socialist state tex canadian style conservative tom singa leave live gary michael estimates welfare recepients getting benefits fraudently gaming system know focusing abuse system makes better headline ignoring benefits die literally know ayn rand wet dream want world social darwin like fool paul ryan horrible world record believe abusing system need kicked dealt gary corporate welfare welfare rich way welfare poor michael turn fox better gary percent americans live home receives form government benefits wall street corporate bailouts economy recession need finish tape end michael stop sop disingenuinous know better gary michael sided corporate parasites rich parasites congress extra average family pay parasites sunk new low article sided incomplete facts hardly read crap misterc haunt blog troll gary nice hypocritical christian referring gods children parasites knew people think christian push comes shove right libertarian selfish crowd probably worship magog rhynn way anybody going spend month gasoline riding motorcycle simply job afford month econo boxes cost close tank gas live going fill car times month employed try double goes month rent mortgage barely single worst area city person circumstances family completely forget live car eat park add insurances health coverage car maintenance etc quadruple figure size family pretend comfortable k figure mention net america bad punchline newton actual people costs incredibly innefective inexhaustive bureaucratic support personnel programs mean michael want find money trail follow single minority mother kids different guys living burb mom dad door mean amazing people individual caseworkers caseworker job raise vicious cycle saying years percentage rowing boat equals percentage riding boat boat stops rowers grow weary rest dependant like running marathon stop mile breather guarantee pick pace law right eat calories burn gain weight days numbered rowers know things things repair things parasites days years going find worth country currently farmers making k senators making k betting roles going change joe government employment sector overpays millions lazy called workers day push meaningless government dripple article shill fat cat rich greedy social security people earned benefits people truly need hear lazy government union parasites type articles real parasites run america want going government employees layed got pay benefits apply unemployment like private sector getting special privilege including right paycheck working amounts alot money payed far exceeds receiving government benefits gets work fill space stand look stupid jobs necessary work corrupt political machine going government employees lazy pack overpayed overprivileged spoiled brats think life handed silver platter word uttered elite masters masters seek lives forced government benefits miserable attempt class warfare tom singa fired james hard working american vs government parasite good occur hard working types work actually chattel slave farm indians understood person continually pay live piece ground born think noble working poor despicable system keeps functioning head people thought like system end tomorrow support mess deal man right demand payment live land steps circumvent crime rest created continue support way disdain poor parasites psyop rich masters running divide lower middle classes nowwthen guess try hard justify disdain taking care throw nonsense indians paid work slavery sudden smarter self sufficient man woman entitled timothy learys dead genius fat work james look term sheeple wikipedia learn james jobs fools morally liable keeping mess going better taking care needs stole land cages illegal person satanic blood tickets trade curse refuse good little obedient slave yeah rest come senses remember disdain government dole serve turn coming pray envious demographic demonized poor point work camp mr g right james need labor world run labor goes supporting people want want want live happily lifestyle s life great hobbies interests require constant outlays money oddly things spend constantly actually things anymore live like want fine ought work like dogs produce plastic crap enslave little people mr g jeremy lots anger comments suggestion log come week blood pressure drop starr makes sick knowing economic disaster america years old worked unfortunately company worked years went business unemployment months making crazy working alot skills applications job jobs government lying want control wake america need rid socialism communism destroying country mondobeyondo maggot work way system worm yes know funny sorry jimbo vips start appearing roadside ditches bailing wire wrists bullet holes ears morning things continue worse bill mistaken system curse givin free food shelter cage workers expense curse system firm belief work refuse reason like money like kind work starve live street woods working men women support people lazy work believe man supporting family supporting family feel work kids support thinks s man work rowell michael statement live liberal area country know game system entirely possible live comfortable existence working saying liberal areas country people advantage system southern conservative states recipients government aid citizens states alabama mississippi extremely high numbers people welfare saying liberal problem divisive objective reporting lend credibility articles especially middle like liberal like gary hard core conservatives michael yes true people gaming system country happens little easier liberal areas chicago michael excellent article waiting great job nex case years longest time wanted notice got hicks alabama live subsidies cradle grave got blacks ny economy turned thank mortgages sudden issue stop policing world conquer money default let watch fly phoenix great seen problem loud clear solution open minded free thinkers envision different better world like talking solution oriented instead problem oriented best way promote change ivan foreigner living working country sort strange watch americans yell socialism socialist norway debt gdp socialist denmark socialist sweden socialist east germany unification united states including intra government debt like medicare social security debt owed individual states japan cool tell socialism killing america gary low information right wing voters easily manilupated fox scandavian countries beating usa pretty catagory socialist need socialist drop self man crap simply myth pauly manipulating left wing voters sagacious sad little child thinking man gary agree benjik article government parasite thinking yes yes brunot let tell high school educated wife nanny till y o makes k year surprised self employed semi retired business mowing lawns broke sweat day know eh impossible achieve govnt check ignorant statement tom singa oh cash based business running table paying fair share tell lawn care d like report irs tim yes hear time look populations countries norway example population million million know norway oil country oil economy probably stagnate comparing apples oranges friend argument countries better looking factors oil country marcus spend earn simple sweden oil country socialist study economy ranting market driven economies strong governmental influence problem consider government servants americans consider government enemy feels like america aimed freedom ended anarchy don t hate usa expected years ago people europe dreamed california dream emirates malaysia singapore hong kong canada benjik cherenkov retarded americans lucky higher standard living better health care better education cultural events vacations days double governments pockets corporations gosh terrible thing vote parliamentary system views actually represented instead co opted politicians owned lock stock barrel corporate elites believes stupid story deserves crappy american life gary michael listening libertarian dream tom singa spoken like true piss antt mooch bob marshall european style socialism exactly need market fundamentalism think propaganda government involvement bad successful harmful society george soros trying defend doubt tom singa true mooch mia typical liberal fox news channel sense m glad believe fairytale change liberal leaders want believe american dream dying marxism ahead change sit couch free money want govt don t care hardworking taxpayers suffer libs care lee know ideology marxism american dream find come explain killed american dream fact loyal follower fox words explain difference liberalism conservitism shown lack knowledge assume attend college pay use pell grants student loans think speak thefulishbastid let logic straight welfare snap medicaid gaming system quit job tomorrow better willfully fired apply socialist benefits voila living high life rollin caddy wakin noon heading store buying steaks girl drinking smoking wee hours morn wake afternoon ad infinitum sign option rid benefits people living demand folks jobs exist think quit day job maybe work soup kitchen day folks blaming woes truly living tom singa song willing live dump share nice home wiht thing better home charge roomies rent cash jf work los angeles live hour away thank god parole agent parolees claiming mental health ailment depression hearing voices sign receive ssi usually dollars month receive pay thousand receive housing rental assistance ebt food cards lounge day buy alcohol drugs money include freeloaders hoodrats girls having multiple children illegals etc receive freebies los angeles total mess california collapse going hard cities erupting violence bloody riots occurs hora ssi said retired disable sure systems collapse soon ss ssi collect working paid taxes collapse sure lot stop check free real disable older money paid long time riot end dem kkk party inyoface mexico problem anonymous month support family people problem americans savvy frugal poor micro managing honestly suffer narcissism addiction americans live lives ignorant tools work automobiles home appliances computers clothing bodies family live month terrible management likely spending heavily things need survive buying excess expensive food luxury items luxury clothing accessories cigarettes drugs bars new automobiles automobiles poor gas mileage course americans bred system believe socially accepted new cars new houses new clothes new appliances worship sports teams future americans likely end giant temper tantrum riots followed scores military hosing telling shut fuck deal going judge people truth people need micro manage lives better lazy learn care bodies tools tom singa conversation cut live cable bill mo landline internet access smart phones mo explain turning ac o day lower night cut bill mo sleep set degrees gosh people thing tthey entitled tto goc help jan honeycutt national guard requires husband internet access pay pocket coupon constantly kids clearance clothes cheaper walmart worth hunt month come taxes week taxes honestly needed help deserved husband surgery remove tumor luckily cancerous work insurance left dollar copay icu time surgery complications heart condition uti extreme ibs ended going work early medical bills coming everyday despite paying insurances children asthma bad health problems daughter extreme ibs gerd asthma worked everyday possible penny disability paid despite having non working bladder heart condition epilepsy watch healthy people walk fibromyalgia know government moocher getting month daughter dyslexia people worked paid penny disability daughter dyslexia manipulate system use daughter pay check people integrity admit air night heart condition hot heart rate goes blood pressure plummets seriously doubt people getting bills paid real need air low know husband works factory education staff sergeant guard gross round yr time orders paid week later system use credit cards ask family money husband gets sick days yr hospital days yr desperately needed help husband home tours duty count military aid sunk ultimate low applying food stamps months denied cut wazoo support people refuse help needed help door slammed face drowning debt k loans credit cards use hard times forced refinance armed interest rate hope easy refinance told doubt choice government horribly flawed article saying month taxes got half taxes pay monthly fine ken sack problem exist people lived letter spirit freeies government law thou shalt steal max power unfortunately americans commit mass suicide single high paid multi generational government neopot lose job pension literally hundreds thousands people citizenship banned workforce law statute regulation person situation costs government multiple levels millions dollars possibly debt burden levels exacerbated problem nepotism favoritism cronyism rest example canadian citizenship banned kind employment nationality max power marry preg brunot scandinavian countries ok socialism high functioning populace smarter better culture terms work ethic norms work etc average live tiny homes drive tiny cars achieve prosperity military spending conquered weeks time tried uniform ethnic makeup helped cultural issues socialism changing said way socialist programs administered difficult beat fact s welfare state virtually debt problem fact trillions debt free markets lack government programs ridiculous leap logic buckaroo banzai um forget fact scandinavian countries pumping oil wealth north sea years norway especially unbelievably rich north sea oil socialism real easy manage pumping stuff ground selling monumental bureaucratic waste kind gets lost shuffle endless free money john good comments ring true brunot nation greater productivity citizens nation moral morality people nation believes thinks doomed eventually fail tom singa reply socialist country like ge live country works thefulishbastid lols appreciate logic comment working soup kitchen day maybe gary s approach\n",
      "Length of the longest string: 72621\n"
     ]
    }
   ],
   "source": [
    "# Find the longest string in the column\n",
    "longest_string = cleaned_df['preproc_parallel'].loc[cleaned_df['preproc_parallel'].str.len().idxmax()]\n",
    "\n",
    "print(f\"The longest string is: {longest_string}\")\n",
    "print(f\"Length of the longest string: {len(longest_string)}\")\n"
   ]
  },
  {
   "cell_type": "code",
   "execution_count": 21,
   "metadata": {},
   "outputs": [],
   "source": [
    "# the model we gonna train, base uncased BERT\n",
    "# check text classification models here: https://huggingface.co/models?filter=text-classification\n",
    "model_name = \"bert-base-uncased\"\n",
    "# max sequence length for each document/sentence sample\n",
    "max_length = 512\n"
   ]
  },
  {
   "cell_type": "code",
   "execution_count": 22,
   "metadata": {},
   "outputs": [],
   "source": [
    "# load the tokenizer\n",
    "tokenizer = BertTokenizerFast.from_pretrained(model_name, do_lower_case=True)"
   ]
  },
  {
   "cell_type": "code",
   "execution_count": 23,
   "metadata": {},
   "outputs": [
    {
     "name": "stdout",
     "output_type": "stream",
     "text": [
      "Training data shape: (16162,)\n",
      "Validation data shape: (4041,)\n",
      "Training labels shape: (16162,)\n",
      "Validation labels shape: (4041,)\n"
     ]
    }
   ],
   "source": [
    "from sklearn.model_selection import train_test_split\n",
    "\n",
    "# Split the data into training and validation sets\n",
    "train_texts, valid_texts, train_label, valid_label = train_test_split(\n",
    "    cleaned_df['preproc_parallel'], \n",
    "    cleaned_df['label'], \n",
    "    test_size=0.2, \n",
    "    random_state=42\n",
    ")\n",
    "\n",
    "# Display the shapes of the resulting datasets\n",
    "print(f\"Training data shape: {train_texts.shape}\")\n",
    "print(f\"Validation data shape: {valid_texts.shape}\")\n",
    "print(f\"Training labels shape: {train_label.shape}\")\n",
    "print(f\"Validation labels shape: {valid_label.shape}\")"
   ]
  },
  {
   "cell_type": "code",
   "execution_count": 24,
   "metadata": {},
   "outputs": [
    {
     "data": {
      "text/plain": [
       "8139     ny times sanctuary city new york times piece s...\n",
       "12358    stake trumps proposed e p cuts new york times ...\n",
       "9562     rick rule broadcast interview available views ...\n",
       "5979     hillary clinton cancels public events vanishes...\n",
       "19059    trump declared winner jon rappoport polls clos...\n",
       "                               ...                        \n",
       "11625    chaiwali indian restaurant feels like home new...\n",
       "12329    recipe mouth watering cauliflower coconut oil ...\n",
       "5553     las cajetillas de tabaco emitir n m sica de me...\n",
       "885      open borders groups gird h b fights open borde...\n",
       "16251    eighty wealthy new yorkers ask state governmen...\n",
       "Name: preproc_parallel, Length: 16162, dtype: object"
      ]
     },
     "metadata": {},
     "output_type": "display_data"
    }
   ],
   "source": [
    "display(train_texts)"
   ]
  },
  {
   "cell_type": "code",
   "execution_count": 25,
   "metadata": {},
   "outputs": [],
   "source": [
    "train_texts_list = train_texts.tolist()\n",
    "valid_texts_list = valid_texts.tolist()\n",
    "train_labels_list = train_label.tolist()\n",
    "valid_labels_list = valid_label.tolist()"
   ]
  },
  {
   "cell_type": "code",
   "execution_count": 26,
   "metadata": {},
   "outputs": [],
   "source": [
    "# tokenize the dataset, truncate when passed `max_length`, \n",
    "# and pad with 0's when less than `max_length`\n",
    "train_encodings = tokenizer(train_texts_list, truncation=True, padding=True, max_length=max_length)\n",
    "valid_encodings = tokenizer(valid_texts_list, truncation=True, padding=True, max_length=max_length)"
   ]
  },
  {
   "cell_type": "code",
   "execution_count": 27,
   "metadata": {},
   "outputs": [],
   "source": [
    "class NewsGroupsDataset(torch.utils.data.Dataset):\n",
    "    def __init__(self, encodings, labels):\n",
    "        self.encodings = encodings\n",
    "        self.labels = labels\n",
    "\n",
    "    def __getitem__(self, idx):\n",
    "        item = {k: torch.tensor(v[idx]) for k, v in self.encodings.items()}\n",
    "        item[\"labels\"] = torch.tensor([self.labels[idx]])\n",
    "        return item\n",
    "\n",
    "    def __len__(self):\n",
    "        return len(self.labels)\n",
    "\n",
    "# convert our tokenized data into a torch Dataset\n",
    "train_dataset = NewsGroupsDataset(train_encodings, train_labels_list)\n",
    "valid_dataset = NewsGroupsDataset(valid_encodings, valid_labels_list)"
   ]
  },
  {
   "cell_type": "code",
   "execution_count": 28,
   "metadata": {},
   "outputs": [
    {
     "name": "stderr",
     "output_type": "stream",
     "text": [
      "Some weights of BertForSequenceClassification were not initialized from the model checkpoint at bert-base-uncased and are newly initialized: ['classifier.bias', 'classifier.weight']\n",
      "You should probably TRAIN this model on a down-stream task to be able to use it for predictions and inference.\n"
     ]
    }
   ],
   "source": [
    "# load the model\n",
    "model = BertForSequenceClassification.from_pretrained(model_name, num_labels=2)"
   ]
  },
  {
   "cell_type": "code",
   "execution_count": 29,
   "metadata": {},
   "outputs": [],
   "source": [
    "from sklearn.metrics import accuracy_score\n",
    "\n",
    "def compute_metrics(pred):\n",
    "  labels = pred.label_ids\n",
    "  preds = pred.predictions.argmax(-1)\n",
    "  # calculate accuracy using sklearn's function\n",
    "  acc = accuracy_score(labels, preds)\n",
    "  return {\n",
    "      'accuracy': acc,\n",
    "  }"
   ]
  },
  {
   "cell_type": "code",
   "execution_count": 30,
   "metadata": {},
   "outputs": [],
   "source": [
    "training_args = TrainingArguments(\n",
    "    output_dir='./results',          # output directory\n",
    "    num_train_epochs=1,              # total number of training epochs\n",
    "    per_device_train_batch_size=10,  # batch size per device during training\n",
    "    per_device_eval_batch_size=20,   # batch size for evaluation\n",
    "    warmup_steps=100,                # number of warmup steps for learning rate scheduler\n",
    "    logging_dir='./logs',            # directory for storing logs\n",
    "    load_best_model_at_end=True,     # load the best model when finished training (default metric is loss)\n",
    "    # but you can specify `metric_for_best_model` argument to change to accuracy or other metric\n",
    "    logging_steps=200,               # log & save weights each logging_steps\n",
    "    save_steps=200,\n",
    "    eval_strategy=\"steps\",     # evaluate each `logging_steps`\n",
    ")"
   ]
  },
  {
   "cell_type": "code",
   "execution_count": 31,
   "metadata": {},
   "outputs": [],
   "source": [
    "trainer = Trainer(\n",
    "    model=model,                         # the instantiated Transformers model to be trained\n",
    "    args=training_args,                  # training arguments, defined above\n",
    "    train_dataset=train_dataset,         # training dataset\n",
    "    eval_dataset=valid_dataset,          # evaluation dataset\n",
    "    compute_metrics=compute_metrics,     # the callback that computes metrics of interest\n",
    ")"
   ]
  },
  {
   "cell_type": "code",
   "execution_count": 32,
   "metadata": {},
   "outputs": [
    {
     "data": {
      "text/html": [
       "\n",
       "    <div>\n",
       "      \n",
       "      <progress value='1617' max='1617' style='width:300px; height:20px; vertical-align: middle;'></progress>\n",
       "      [1617/1617 20:56, Epoch 1/1]\n",
       "    </div>\n",
       "    <table border=\"1\" class=\"dataframe\">\n",
       "  <thead>\n",
       " <tr style=\"text-align: left;\">\n",
       "      <th>Step</th>\n",
       "      <th>Training Loss</th>\n",
       "      <th>Validation Loss</th>\n",
       "      <th>Accuracy</th>\n",
       "    </tr>\n",
       "  </thead>\n",
       "  <tbody>\n",
       "    <tr>\n",
       "      <td>200</td>\n",
       "      <td>0.471900</td>\n",
       "      <td>0.231807</td>\n",
       "      <td>0.918832</td>\n",
       "    </tr>\n",
       "    <tr>\n",
       "      <td>400</td>\n",
       "      <td>0.201100</td>\n",
       "      <td>0.165809</td>\n",
       "      <td>0.939866</td>\n",
       "    </tr>\n",
       "    <tr>\n",
       "      <td>600</td>\n",
       "      <td>0.134500</td>\n",
       "      <td>0.113299</td>\n",
       "      <td>0.969809</td>\n",
       "    </tr>\n",
       "    <tr>\n",
       "      <td>800</td>\n",
       "      <td>0.119900</td>\n",
       "      <td>0.134753</td>\n",
       "      <td>0.970304</td>\n",
       "    </tr>\n",
       "    <tr>\n",
       "      <td>1000</td>\n",
       "      <td>0.083900</td>\n",
       "      <td>0.113398</td>\n",
       "      <td>0.975501</td>\n",
       "    </tr>\n",
       "    <tr>\n",
       "      <td>1200</td>\n",
       "      <td>0.089900</td>\n",
       "      <td>0.071809</td>\n",
       "      <td>0.980945</td>\n",
       "    </tr>\n",
       "    <tr>\n",
       "      <td>1400</td>\n",
       "      <td>0.095600</td>\n",
       "      <td>0.084051</td>\n",
       "      <td>0.977481</td>\n",
       "    </tr>\n",
       "    <tr>\n",
       "      <td>1600</td>\n",
       "      <td>0.071500</td>\n",
       "      <td>0.077535</td>\n",
       "      <td>0.979708</td>\n",
       "    </tr>\n",
       "  </tbody>\n",
       "</table><p>"
      ],
      "text/plain": [
       "<IPython.core.display.HTML object>"
      ]
     },
     "metadata": {},
     "output_type": "display_data"
    },
    {
     "data": {
      "text/plain": [
       "TrainOutput(global_step=1617, training_loss=0.1576513943291772, metrics={'train_runtime': 1257.2465, 'train_samples_per_second': 12.855, 'train_steps_per_second': 1.286, 'total_flos': 4252400876728320.0, 'train_loss': 0.1576513943291772, 'epoch': 1.0})"
      ]
     },
     "execution_count": 32,
     "metadata": {},
     "output_type": "execute_result"
    }
   ],
   "source": [
    "# train the model\n",
    "trainer.train()"
   ]
  },
  {
   "cell_type": "code",
   "execution_count": 33,
   "metadata": {},
   "outputs": [
    {
     "data": {
      "text/html": [
       "\n",
       "    <div>\n",
       "      \n",
       "      <progress value='203' max='203' style='width:300px; height:20px; vertical-align: middle;'></progress>\n",
       "      [203/203 00:52]\n",
       "    </div>\n",
       "    "
      ],
      "text/plain": [
       "<IPython.core.display.HTML object>"
      ]
     },
     "metadata": {},
     "output_type": "display_data"
    },
    {
     "data": {
      "text/plain": [
       "{'eval_loss': 0.07180941849946976,\n",
       " 'eval_accuracy': 0.9809453105666914,\n",
       " 'eval_runtime': 53.0891,\n",
       " 'eval_samples_per_second': 76.117,\n",
       " 'eval_steps_per_second': 3.824,\n",
       " 'epoch': 1.0}"
      ]
     },
     "execution_count": 33,
     "metadata": {},
     "output_type": "execute_result"
    }
   ],
   "source": [
    "trainer.evaluate()\n"
   ]
  },
  {
   "cell_type": "code",
   "execution_count": 34,
   "metadata": {},
   "outputs": [
    {
     "data": {
      "text/plain": [
       "('fake-news-bert-base-uncased/tokenizer_config.json',\n",
       " 'fake-news-bert-base-uncased/special_tokens_map.json',\n",
       " 'fake-news-bert-base-uncased/vocab.txt',\n",
       " 'fake-news-bert-base-uncased/added_tokens.json',\n",
       " 'fake-news-bert-base-uncased/tokenizer.json')"
      ]
     },
     "execution_count": 34,
     "metadata": {},
     "output_type": "execute_result"
    }
   ],
   "source": [
    "# saving the fine tuned model & tokenizer\n",
    "model_path = \"fake-news-bert-base-uncased\"\n",
    "model.save_pretrained(model_path)\n",
    "tokenizer.save_pretrained(model_path)"
   ]
  },
  {
   "cell_type": "code",
   "execution_count": 35,
   "metadata": {},
   "outputs": [],
   "source": [
    "def get_prediction(text, convert_to_label=False):\n",
    "    # prepare our text into tokenized sequence\n",
    "    inputs = tokenizer(text, padding=True, truncation=True, max_length=max_length, return_tensors=\"pt\").to(\"cuda\")\n",
    "    # perform inference to our model\n",
    "    outputs = model(**inputs)\n",
    "    # get output probabilities by doing softmax\n",
    "    probs = outputs[0].softmax(1)\n",
    "    # executing argmax function to get the candidate label\n",
    "    d = {\n",
    "        0: \"reliable\",\n",
    "        1: \"fake\"\n",
    "    }\n",
    "    if convert_to_label:\n",
    "      return d[int(probs.argmax())]\n",
    "    else:\n",
    "      return int(probs.argmax())"
   ]
  },
  {
   "cell_type": "code",
   "execution_count": 36,
   "metadata": {},
   "outputs": [],
   "source": [
    "real_news = \"\"\"\n",
    "Tim Tebow Will Attempt Another Comeback, This Time in Baseball - The New York Times\",Daniel Victor,\"If at first you don’t succeed, try a different sport. Tim Tebow, who was a Heisman   quarterback at the University of Florida but was unable to hold an N. F. L. job, is pursuing a career in Major League Baseball. <SNIPPED>\n",
    "\"\"\""
   ]
  },
  {
   "cell_type": "code",
   "execution_count": 37,
   "metadata": {},
   "outputs": [
    {
     "data": {
      "text/plain": [
       "'reliable'"
      ]
     },
     "execution_count": 37,
     "metadata": {},
     "output_type": "execute_result"
    }
   ],
   "source": [
    "get_prediction(real_news, convert_to_label=True)"
   ]
  },
  {
   "cell_type": "code",
   "execution_count": 39,
   "metadata": {},
   "outputs": [
    {
     "data": {
      "text/html": [
       "<div>\n",
       "<style scoped>\n",
       "    .dataframe tbody tr th:only-of-type {\n",
       "        vertical-align: middle;\n",
       "    }\n",
       "\n",
       "    .dataframe tbody tr th {\n",
       "        vertical-align: top;\n",
       "    }\n",
       "\n",
       "    .dataframe thead th {\n",
       "        text-align: right;\n",
       "    }\n",
       "</style>\n",
       "<table border=\"1\" class=\"dataframe\">\n",
       "  <thead>\n",
       "    <tr style=\"text-align: right;\">\n",
       "      <th></th>\n",
       "      <th>title</th>\n",
       "      <th>author</th>\n",
       "      <th>text</th>\n",
       "      <th>label</th>\n",
       "      <th>merged_text</th>\n",
       "      <th>cleaned_text</th>\n",
       "      <th>preproc_parallel</th>\n",
       "    </tr>\n",
       "  </thead>\n",
       "  <tbody>\n",
       "    <tr>\n",
       "      <th>0</th>\n",
       "      <td>House Dem Aide: We Didn’t Even See Comey’s Let...</td>\n",
       "      <td>Darrell Lucus</td>\n",
       "      <td>House Dem Aide: We Didn’t Even See Comey’s Let...</td>\n",
       "      <td>1</td>\n",
       "      <td>house dem aide we did not even see comeys lett...</td>\n",
       "      <td>house dem aide comeys letter jason chaffetz tw...</td>\n",
       "      <td>house dem aide comeys letter jason chaffetz tw...</td>\n",
       "    </tr>\n",
       "    <tr>\n",
       "      <th>1</th>\n",
       "      <td>FLYNN: Hillary Clinton, Big Woman on Campus - ...</td>\n",
       "      <td>Daniel J. Flynn</td>\n",
       "      <td>Ever get the feeling your life circles the rou...</td>\n",
       "      <td>0</td>\n",
       "      <td>flynn hillary clinton big woman on campus brei...</td>\n",
       "      <td>flynn hillary clinton big woman campus breitba...</td>\n",
       "      <td>flynn hillary clinton big woman campus breitba...</td>\n",
       "    </tr>\n",
       "    <tr>\n",
       "      <th>2</th>\n",
       "      <td>Why the Truth Might Get You Fired</td>\n",
       "      <td>Consortiumnews.com</td>\n",
       "      <td>Why the Truth Might Get You Fired October 29, ...</td>\n",
       "      <td>1</td>\n",
       "      <td>why the truth might get you fired why the trut...</td>\n",
       "      <td>truth fired truth fired october tension intell...</td>\n",
       "      <td>truth fired truth fired october tension intell...</td>\n",
       "    </tr>\n",
       "    <tr>\n",
       "      <th>3</th>\n",
       "      <td>15 Civilians Killed In Single US Airstrike Hav...</td>\n",
       "      <td>Jessica Purkiss</td>\n",
       "      <td>Videos 15 Civilians Killed In Single US Airstr...</td>\n",
       "      <td>1</td>\n",
       "      <td>civilians killed in single us airstrike have b...</td>\n",
       "      <td>civilians killed single airstrike identified v...</td>\n",
       "      <td>civilians killed single airstrike identified v...</td>\n",
       "    </tr>\n",
       "    <tr>\n",
       "      <th>4</th>\n",
       "      <td>Iranian woman jailed for fictional unpublished...</td>\n",
       "      <td>Howard Portnoy</td>\n",
       "      <td>Print \\nAn Iranian woman has been sentenced to...</td>\n",
       "      <td>1</td>\n",
       "      <td>iranian woman jailed for fictional unpublished...</td>\n",
       "      <td>iranian woman jailed fictional unpublished sto...</td>\n",
       "      <td>iranian woman jailed fictional unpublished sto...</td>\n",
       "    </tr>\n",
       "    <tr>\n",
       "      <th>...</th>\n",
       "      <td>...</td>\n",
       "      <td>...</td>\n",
       "      <td>...</td>\n",
       "      <td>...</td>\n",
       "      <td>...</td>\n",
       "      <td>...</td>\n",
       "      <td>...</td>\n",
       "    </tr>\n",
       "    <tr>\n",
       "      <th>20795</th>\n",
       "      <td>Rapper T.I.: Trump a ’Poster Child For White S...</td>\n",
       "      <td>Jerome Hudson</td>\n",
       "      <td>Rapper T. I. unloaded on black celebrities who...</td>\n",
       "      <td>0</td>\n",
       "      <td>rapper t i trump a poster child for white supr...</td>\n",
       "      <td>rapper t trump poster child white supremacy ra...</td>\n",
       "      <td>rapper t trump poster child white supremacy ra...</td>\n",
       "    </tr>\n",
       "    <tr>\n",
       "      <th>20796</th>\n",
       "      <td>N.F.L. Playoffs: Schedule, Matchups and Odds -...</td>\n",
       "      <td>Benjamin Hoffman</td>\n",
       "      <td>When the Green Bay Packers lost to the Washing...</td>\n",
       "      <td>0</td>\n",
       "      <td>n f l playoffs schedule matchups and odds the ...</td>\n",
       "      <td>n f l playoffs schedule matchups odds new york...</td>\n",
       "      <td>n f l playoffs schedule matchups odds new york...</td>\n",
       "    </tr>\n",
       "    <tr>\n",
       "      <th>20797</th>\n",
       "      <td>Macy’s Is Said to Receive Takeover Approach by...</td>\n",
       "      <td>Michael J. de la Merced and Rachel Abrams</td>\n",
       "      <td>The Macy’s of today grew from the union of sev...</td>\n",
       "      <td>0</td>\n",
       "      <td>macys is said to receive takeover approach by ...</td>\n",
       "      <td>macys said receive takeover approach hudsons b...</td>\n",
       "      <td>macys said receive takeover approach hudsons b...</td>\n",
       "    </tr>\n",
       "    <tr>\n",
       "      <th>20798</th>\n",
       "      <td>NATO, Russia To Hold Parallel Exercises In Bal...</td>\n",
       "      <td>Alex Ansary</td>\n",
       "      <td>NATO, Russia To Hold Parallel Exercises In Bal...</td>\n",
       "      <td>1</td>\n",
       "      <td>nato russia to hold parallel exercises in balk...</td>\n",
       "      <td>nato russia hold parallel exercises balkans na...</td>\n",
       "      <td>nato russia hold parallel exercises balkans na...</td>\n",
       "    </tr>\n",
       "    <tr>\n",
       "      <th>20799</th>\n",
       "      <td>What Keeps the F-35 Alive</td>\n",
       "      <td>David Swanson</td>\n",
       "      <td>David Swanson is an author, activist, journa...</td>\n",
       "      <td>1</td>\n",
       "      <td>what keeps the f alive david swanson is an aut...</td>\n",
       "      <td>keeps f alive david swanson author activist jo...</td>\n",
       "      <td>keeps f alive david swanson author activist jo...</td>\n",
       "    </tr>\n",
       "  </tbody>\n",
       "</table>\n",
       "<p>20203 rows × 7 columns</p>\n",
       "</div>"
      ],
      "text/plain": [
       "                                                   title  \\\n",
       "0      House Dem Aide: We Didn’t Even See Comey’s Let...   \n",
       "1      FLYNN: Hillary Clinton, Big Woman on Campus - ...   \n",
       "2                      Why the Truth Might Get You Fired   \n",
       "3      15 Civilians Killed In Single US Airstrike Hav...   \n",
       "4      Iranian woman jailed for fictional unpublished...   \n",
       "...                                                  ...   \n",
       "20795  Rapper T.I.: Trump a ’Poster Child For White S...   \n",
       "20796  N.F.L. Playoffs: Schedule, Matchups and Odds -...   \n",
       "20797  Macy’s Is Said to Receive Takeover Approach by...   \n",
       "20798  NATO, Russia To Hold Parallel Exercises In Bal...   \n",
       "20799                          What Keeps the F-35 Alive   \n",
       "\n",
       "                                          author  \\\n",
       "0                                  Darrell Lucus   \n",
       "1                                Daniel J. Flynn   \n",
       "2                             Consortiumnews.com   \n",
       "3                                Jessica Purkiss   \n",
       "4                                 Howard Portnoy   \n",
       "...                                          ...   \n",
       "20795                              Jerome Hudson   \n",
       "20796                           Benjamin Hoffman   \n",
       "20797  Michael J. de la Merced and Rachel Abrams   \n",
       "20798                                Alex Ansary   \n",
       "20799                              David Swanson   \n",
       "\n",
       "                                                    text  label  \\\n",
       "0      House Dem Aide: We Didn’t Even See Comey’s Let...      1   \n",
       "1      Ever get the feeling your life circles the rou...      0   \n",
       "2      Why the Truth Might Get You Fired October 29, ...      1   \n",
       "3      Videos 15 Civilians Killed In Single US Airstr...      1   \n",
       "4      Print \\nAn Iranian woman has been sentenced to...      1   \n",
       "...                                                  ...    ...   \n",
       "20795  Rapper T. I. unloaded on black celebrities who...      0   \n",
       "20796  When the Green Bay Packers lost to the Washing...      0   \n",
       "20797  The Macy’s of today grew from the union of sev...      0   \n",
       "20798  NATO, Russia To Hold Parallel Exercises In Bal...      1   \n",
       "20799    David Swanson is an author, activist, journa...      1   \n",
       "\n",
       "                                             merged_text  \\\n",
       "0      house dem aide we did not even see comeys lett...   \n",
       "1      flynn hillary clinton big woman on campus brei...   \n",
       "2      why the truth might get you fired why the trut...   \n",
       "3      civilians killed in single us airstrike have b...   \n",
       "4      iranian woman jailed for fictional unpublished...   \n",
       "...                                                  ...   \n",
       "20795  rapper t i trump a poster child for white supr...   \n",
       "20796  n f l playoffs schedule matchups and odds the ...   \n",
       "20797  macys is said to receive takeover approach by ...   \n",
       "20798  nato russia to hold parallel exercises in balk...   \n",
       "20799  what keeps the f alive david swanson is an aut...   \n",
       "\n",
       "                                            cleaned_text  \\\n",
       "0      house dem aide comeys letter jason chaffetz tw...   \n",
       "1      flynn hillary clinton big woman campus breitba...   \n",
       "2      truth fired truth fired october tension intell...   \n",
       "3      civilians killed single airstrike identified v...   \n",
       "4      iranian woman jailed fictional unpublished sto...   \n",
       "...                                                  ...   \n",
       "20795  rapper t trump poster child white supremacy ra...   \n",
       "20796  n f l playoffs schedule matchups odds new york...   \n",
       "20797  macys said receive takeover approach hudsons b...   \n",
       "20798  nato russia hold parallel exercises balkans na...   \n",
       "20799  keeps f alive david swanson author activist jo...   \n",
       "\n",
       "                                        preproc_parallel  \n",
       "0      house dem aide comeys letter jason chaffetz tw...  \n",
       "1      flynn hillary clinton big woman campus breitba...  \n",
       "2      truth fired truth fired october tension intell...  \n",
       "3      civilians killed single airstrike identified v...  \n",
       "4      iranian woman jailed fictional unpublished sto...  \n",
       "...                                                  ...  \n",
       "20795  rapper t trump poster child white supremacy ra...  \n",
       "20796  n f l playoffs schedule matchups odds new york...  \n",
       "20797  macys said receive takeover approach hudsons b...  \n",
       "20798  nato russia hold parallel exercises balkans na...  \n",
       "20799  keeps f alive david swanson author activist jo...  \n",
       "\n",
       "[20203 rows x 7 columns]"
      ]
     },
     "metadata": {},
     "output_type": "display_data"
    }
   ],
   "source": [
    "display(cleaned_df)"
   ]
  },
  {
   "cell_type": "code",
   "execution_count": 38,
   "metadata": {},
   "outputs": [
    {
     "data": {
      "text/html": [
       "<div>\n",
       "<style scoped>\n",
       "    .dataframe tbody tr th:only-of-type {\n",
       "        vertical-align: middle;\n",
       "    }\n",
       "\n",
       "    .dataframe tbody tr th {\n",
       "        vertical-align: top;\n",
       "    }\n",
       "\n",
       "    .dataframe thead th {\n",
       "        text-align: right;\n",
       "    }\n",
       "</style>\n",
       "<table border=\"1\" class=\"dataframe\">\n",
       "  <thead>\n",
       "    <tr style=\"text-align: right;\">\n",
       "      <th></th>\n",
       "      <th>title</th>\n",
       "      <th>author</th>\n",
       "      <th>text</th>\n",
       "    </tr>\n",
       "  </thead>\n",
       "  <tbody>\n",
       "    <tr>\n",
       "      <th>0</th>\n",
       "      <td>Specter of Trump Loosens Tongues, if Not Purse...</td>\n",
       "      <td>David Streitfeld</td>\n",
       "      <td>PALO ALTO, Calif.  —   After years of scorning...</td>\n",
       "    </tr>\n",
       "    <tr>\n",
       "      <th>1</th>\n",
       "      <td>Russian warships ready to strike terrorists ne...</td>\n",
       "      <td>None</td>\n",
       "      <td>Russian warships ready to strike terrorists ne...</td>\n",
       "    </tr>\n",
       "    <tr>\n",
       "      <th>2</th>\n",
       "      <td>#NoDAPL: Native American Leaders Vow to Stay A...</td>\n",
       "      <td>Common Dreams</td>\n",
       "      <td>Videos #NoDAPL: Native American Leaders Vow to...</td>\n",
       "    </tr>\n",
       "    <tr>\n",
       "      <th>3</th>\n",
       "      <td>Tim Tebow Will Attempt Another Comeback, This ...</td>\n",
       "      <td>Daniel Victor</td>\n",
       "      <td>If at first you don’t succeed, try a different...</td>\n",
       "    </tr>\n",
       "    <tr>\n",
       "      <th>4</th>\n",
       "      <td>Keiser Report: Meme Wars (E995)</td>\n",
       "      <td>Truth Broadcast Network</td>\n",
       "      <td>42 mins ago 1 Views 0 Comments 0 Likes 'For th...</td>\n",
       "    </tr>\n",
       "    <tr>\n",
       "      <th>...</th>\n",
       "      <td>...</td>\n",
       "      <td>...</td>\n",
       "      <td>...</td>\n",
       "    </tr>\n",
       "    <tr>\n",
       "      <th>5195</th>\n",
       "      <td>The Bangladeshi Traffic Jam That Never Ends - ...</td>\n",
       "      <td>Jody Rosen</td>\n",
       "      <td>Of all the dysfunctions that plague the world’...</td>\n",
       "    </tr>\n",
       "    <tr>\n",
       "      <th>5196</th>\n",
       "      <td>John Kasich Signs One Abortion Bill in Ohio bu...</td>\n",
       "      <td>Sheryl Gay Stolberg</td>\n",
       "      <td>WASHINGTON  —   Gov. John Kasich of Ohio on Tu...</td>\n",
       "    </tr>\n",
       "    <tr>\n",
       "      <th>5197</th>\n",
       "      <td>California Today: What, Exactly, Is in Your Su...</td>\n",
       "      <td>Mike McPhate</td>\n",
       "      <td>Good morning. (Want to get California Today by...</td>\n",
       "    </tr>\n",
       "    <tr>\n",
       "      <th>5198</th>\n",
       "      <td>300 US Marines To Be Deployed To Russian Borde...</td>\n",
       "      <td>None</td>\n",
       "      <td>« Previous - Next » 300 US Marines To Be Deplo...</td>\n",
       "    </tr>\n",
       "    <tr>\n",
       "      <th>5199</th>\n",
       "      <td>Awkward Sex, Onscreen and Off - The New York T...</td>\n",
       "      <td>Teddy Wayne</td>\n",
       "      <td>Perhaps you’ve seen the new TV series whose pi...</td>\n",
       "    </tr>\n",
       "  </tbody>\n",
       "</table>\n",
       "<p>5200 rows × 3 columns</p>\n",
       "</div>"
      ],
      "text/plain": [
       "                                                  title  \\\n",
       "0     Specter of Trump Loosens Tongues, if Not Purse...   \n",
       "1     Russian warships ready to strike terrorists ne...   \n",
       "2     #NoDAPL: Native American Leaders Vow to Stay A...   \n",
       "3     Tim Tebow Will Attempt Another Comeback, This ...   \n",
       "4                       Keiser Report: Meme Wars (E995)   \n",
       "...                                                 ...   \n",
       "5195  The Bangladeshi Traffic Jam That Never Ends - ...   \n",
       "5196  John Kasich Signs One Abortion Bill in Ohio bu...   \n",
       "5197  California Today: What, Exactly, Is in Your Su...   \n",
       "5198  300 US Marines To Be Deployed To Russian Borde...   \n",
       "5199  Awkward Sex, Onscreen and Off - The New York T...   \n",
       "\n",
       "                       author  \\\n",
       "0            David Streitfeld   \n",
       "1                        None   \n",
       "2               Common Dreams   \n",
       "3               Daniel Victor   \n",
       "4     Truth Broadcast Network   \n",
       "...                       ...   \n",
       "5195               Jody Rosen   \n",
       "5196      Sheryl Gay Stolberg   \n",
       "5197             Mike McPhate   \n",
       "5198                     None   \n",
       "5199              Teddy Wayne   \n",
       "\n",
       "                                                   text  \n",
       "0     PALO ALTO, Calif.  —   After years of scorning...  \n",
       "1     Russian warships ready to strike terrorists ne...  \n",
       "2     Videos #NoDAPL: Native American Leaders Vow to...  \n",
       "3     If at first you don’t succeed, try a different...  \n",
       "4     42 mins ago 1 Views 0 Comments 0 Likes 'For th...  \n",
       "...                                                 ...  \n",
       "5195  Of all the dysfunctions that plague the world’...  \n",
       "5196  WASHINGTON  —   Gov. John Kasich of Ohio on Tu...  \n",
       "5197  Good morning. (Want to get California Today by...  \n",
       "5198  « Previous - Next » 300 US Marines To Be Deplo...  \n",
       "5199  Perhaps you’ve seen the new TV series whose pi...  \n",
       "\n",
       "[5200 rows x 3 columns]"
      ]
     },
     "metadata": {},
     "output_type": "display_data"
    }
   ],
   "source": [
    "test = pd.read_parquet('data/test.parquet')\n",
    "display(test)"
   ]
  },
  {
   "cell_type": "code",
   "execution_count": 41,
   "metadata": {},
   "outputs": [
    {
     "name": "stdout",
     "output_type": "stream",
     "text": [
      "Logistic Regression accuracy: 0.9572\n",
      "Naive Bayes accuracy: 0.8904\n",
      "Decision Tree accuracy: 0.9317\n",
      "Passive-Aggressive accuracy: 0.9599\n"
     ]
    }
   ],
   "source": [
    "from sklearn.model_selection import train_test_split\n",
    "from sklearn.feature_extraction.text import TfidfVectorizer\n",
    "from sklearn.linear_model import LogisticRegression\n",
    "from sklearn.naive_bayes import MultinomialNB\n",
    "from sklearn.tree import DecisionTreeClassifier\n",
    "from sklearn.linear_model import PassiveAggressiveClassifier\n",
    "from sklearn.pipeline import make_pipeline\n",
    "from sklearn.metrics import accuracy_score\n",
    "import joblib\n",
    "\n",
    "# Prepare the data\n",
    "train_texts_list = cleaned_df['preproc_parallel'].tolist()\n",
    "train_labels_list = cleaned_df['label'].tolist()\n",
    "\n",
    "# Split data\n",
    "X_train, X_valid, y_train, y_valid = train_test_split(train_texts_list, train_labels_list, test_size=0.2, random_state=42)\n",
    "\n",
    "# TF-IDF Vectorization\n",
    "tfidf_vectorizer = TfidfVectorizer(max_features=10000)\n",
    "\n",
    "# Define the models\n",
    "models = {\n",
    "    'Logistic Regression': LogisticRegression(),\n",
    "    'Naive Bayes': MultinomialNB(),\n",
    "    'Decision Tree': DecisionTreeClassifier(),\n",
    "    'Passive-Aggressive': PassiveAggressiveClassifier()\n",
    "}\n",
    "\n",
    "# Train and save the models\n",
    "for model_name, model in models.items():\n",
    "    pipeline = make_pipeline(tfidf_vectorizer, model)\n",
    "    pipeline.fit(X_train, y_train)\n",
    "    \n",
    "    # Save the model\n",
    "    joblib.dump(pipeline, f'{model_name}_fake_news_model.pkl')\n",
    "\n",
    "    # Evaluate the model\n",
    "    y_pred = pipeline.predict(X_valid)\n",
    "    accuracy = accuracy_score(y_valid, y_pred)\n",
    "    print(f'{model_name} accuracy: {accuracy:.4f}')\n"
   ]
  }
 ],
 "metadata": {
  "kernelspec": {
   "display_name": ".venv",
   "language": "python",
   "name": "python3"
  },
  "language_info": {
   "codemirror_mode": {
    "name": "ipython",
    "version": 3
   },
   "file_extension": ".py",
   "mimetype": "text/x-python",
   "name": "python",
   "nbconvert_exporter": "python",
   "pygments_lexer": "ipython3",
   "version": "3.10.12"
  }
 },
 "nbformat": 4,
 "nbformat_minor": 2
}
